{
 "cells": [
  {
   "cell_type": "code",
   "execution_count": 1,
   "id": "4cf52986-f2d0-4b3f-acd5-3f1b5615afbc",
   "metadata": {},
   "outputs": [],
   "source": [
    "import pandas as pd\n",
    "import numpy as np\n",
    "import matplotlib.pyplot as plt\n",
    "import seaborn as sns\n",
    "import joblib\n",
    "sns.set_context(context='notebook', font_scale=1.1, rc=None)"
   ]
  },
  {
   "cell_type": "markdown",
   "id": "68b7d212-55ec-4c64-bcf7-012a090bd980",
   "metadata": {},
   "source": [
    "# Objective Understanding"
   ]
  },
  {
   "cell_type": "markdown",
   "id": "53ef5636-c0cd-4358-86e3-0cae396e5dcc",
   "metadata": {},
   "source": [
    "* [Link 1](https://www.kaggle.com/datasets/russellyates88/suicide-rates-overview-1985-to-2016)\n",
    "* [Link 2](https://www.who.int/news-room/fact-sheets/detail/suicide)"
   ]
  },
  {
   "cell_type": "markdown",
   "id": "f9870e34-76fc-4777-bf2d-680891bb2ba7",
   "metadata": {},
   "source": [
    "# Data Understanding"
   ]
  },
  {
   "cell_type": "markdown",
   "id": "5310741f-c2d0-4cf3-86d3-352c73451d35",
   "metadata": {},
   "source": [
    "Luckily, required dataset can found on Kaggle and Our World in Data. The below links represent where our projects retrieve data from.\n",
    "* [Kaggle - Suicide Rate Dataset](https://www.kaggle.com/datasets/russellyates88/suicide-rates-overview-1985-to-2016)\n",
    "* [Our World in Data - HDI Dataset](https://ourworldindata.org/human-development-index)\n",
    "* [The World Bank - GDP Dataset](http://databank.worldbank.org/data/source/world-development-indicators#)\n",
    "* [Kaggle - GPS Dataset](https://www.kaggle.com/datasets/nikitagrec/world-capitals-gps)\n",
    "* [Variable Description](https://docs.google.com/spreadsheets/d/1PPbMPrkpixVaY9v0tkprudtyn-AFF6Plu0a2s66v9vw/edit?usp=sharing)"
   ]
  },
  {
   "cell_type": "markdown",
   "id": "8c096f01-0ea1-4049-9cd7-bc44664cd0c1",
   "metadata": {},
   "source": [
    "Some questions that pop up in our mind from this early process. The questions are as followed:\n",
    "* Which country has the highest suicide rate for the 100,000 population?\n",
    "* Gender ratio of those who committed suicide?\n",
    "* Suicide rates of generation?\n",
    "* How old were those who committed suicide?"
   ]
  },
  {
   "cell_type": "markdown",
   "id": "d1394e97-95c4-4e17-84ba-84dff90ff0e0",
   "metadata": {},
   "source": [
    "# Data Preparation"
   ]
  },
  {
   "cell_type": "markdown",
   "id": "fdef13a3-5888-49ab-9d7f-c111f0e6b501",
   "metadata": {},
   "source": [
    "### Initial Data Checking"
   ]
  },
  {
   "cell_type": "markdown",
   "id": "79207e94-094d-4f78-b89c-ac4b4a3e9c98",
   "metadata": {},
   "source": [
    "##### --- Suicide Data Set ---"
   ]
  },
  {
   "cell_type": "code",
   "execution_count": 2,
   "id": "66b45de3-4710-431e-827c-8241249c1eec",
   "metadata": {},
   "outputs": [],
   "source": [
    "suicide = pd.read_csv('./data/master.csv')"
   ]
  },
  {
   "cell_type": "code",
   "execution_count": 3,
   "id": "056bc800-4457-46b9-9a48-edc04d73f30b",
   "metadata": {},
   "outputs": [
    {
     "data": {
      "text/plain": [
       "(27820, 12)"
      ]
     },
     "execution_count": 3,
     "metadata": {},
     "output_type": "execute_result"
    }
   ],
   "source": [
    "suicide.shape"
   ]
  },
  {
   "cell_type": "code",
   "execution_count": 4,
   "id": "2dc00eaa-1c99-4eae-bc1d-617e413161dc",
   "metadata": {},
   "outputs": [
    {
     "data": {
      "text/plain": [
       "Index(['country', 'year', 'sex', 'age', 'suicides_no', 'population',\n",
       "       'suicides/100k pop', 'country-year', 'HDI for year',\n",
       "       ' gdp_for_year ($) ', 'gdp_per_capita ($)', 'generation'],\n",
       "      dtype='object')"
      ]
     },
     "execution_count": 4,
     "metadata": {},
     "output_type": "execute_result"
    }
   ],
   "source": [
    "suicide.columns"
   ]
  },
  {
   "cell_type": "code",
   "execution_count": 5,
   "id": "b70381ac-06ac-4119-91ec-22bd8f5dba51",
   "metadata": {},
   "outputs": [
    {
     "data": {
      "text/html": [
       "<div>\n",
       "<style scoped>\n",
       "    .dataframe tbody tr th:only-of-type {\n",
       "        vertical-align: middle;\n",
       "    }\n",
       "\n",
       "    .dataframe tbody tr th {\n",
       "        vertical-align: top;\n",
       "    }\n",
       "\n",
       "    .dataframe thead th {\n",
       "        text-align: right;\n",
       "    }\n",
       "</style>\n",
       "<table border=\"1\" class=\"dataframe\">\n",
       "  <thead>\n",
       "    <tr style=\"text-align: right;\">\n",
       "      <th></th>\n",
       "      <th>country</th>\n",
       "      <th>year</th>\n",
       "      <th>sex</th>\n",
       "      <th>age</th>\n",
       "      <th>suicides_no</th>\n",
       "      <th>population</th>\n",
       "      <th>suicides/100k pop</th>\n",
       "      <th>country-year</th>\n",
       "      <th>HDI for year</th>\n",
       "      <th>gdp_for_year ($)</th>\n",
       "      <th>gdp_per_capita ($)</th>\n",
       "      <th>generation</th>\n",
       "    </tr>\n",
       "  </thead>\n",
       "  <tbody>\n",
       "    <tr>\n",
       "      <th>0</th>\n",
       "      <td>Albania</td>\n",
       "      <td>1987</td>\n",
       "      <td>male</td>\n",
       "      <td>15-24 years</td>\n",
       "      <td>21</td>\n",
       "      <td>312900</td>\n",
       "      <td>6.71</td>\n",
       "      <td>Albania1987</td>\n",
       "      <td>NaN</td>\n",
       "      <td>2,156,624,900</td>\n",
       "      <td>796</td>\n",
       "      <td>Generation X</td>\n",
       "    </tr>\n",
       "    <tr>\n",
       "      <th>1</th>\n",
       "      <td>Albania</td>\n",
       "      <td>1987</td>\n",
       "      <td>male</td>\n",
       "      <td>35-54 years</td>\n",
       "      <td>16</td>\n",
       "      <td>308000</td>\n",
       "      <td>5.19</td>\n",
       "      <td>Albania1987</td>\n",
       "      <td>NaN</td>\n",
       "      <td>2,156,624,900</td>\n",
       "      <td>796</td>\n",
       "      <td>Silent</td>\n",
       "    </tr>\n",
       "    <tr>\n",
       "      <th>2</th>\n",
       "      <td>Albania</td>\n",
       "      <td>1987</td>\n",
       "      <td>female</td>\n",
       "      <td>15-24 years</td>\n",
       "      <td>14</td>\n",
       "      <td>289700</td>\n",
       "      <td>4.83</td>\n",
       "      <td>Albania1987</td>\n",
       "      <td>NaN</td>\n",
       "      <td>2,156,624,900</td>\n",
       "      <td>796</td>\n",
       "      <td>Generation X</td>\n",
       "    </tr>\n",
       "    <tr>\n",
       "      <th>3</th>\n",
       "      <td>Albania</td>\n",
       "      <td>1987</td>\n",
       "      <td>male</td>\n",
       "      <td>75+ years</td>\n",
       "      <td>1</td>\n",
       "      <td>21800</td>\n",
       "      <td>4.59</td>\n",
       "      <td>Albania1987</td>\n",
       "      <td>NaN</td>\n",
       "      <td>2,156,624,900</td>\n",
       "      <td>796</td>\n",
       "      <td>G.I. Generation</td>\n",
       "    </tr>\n",
       "    <tr>\n",
       "      <th>4</th>\n",
       "      <td>Albania</td>\n",
       "      <td>1987</td>\n",
       "      <td>male</td>\n",
       "      <td>25-34 years</td>\n",
       "      <td>9</td>\n",
       "      <td>274300</td>\n",
       "      <td>3.28</td>\n",
       "      <td>Albania1987</td>\n",
       "      <td>NaN</td>\n",
       "      <td>2,156,624,900</td>\n",
       "      <td>796</td>\n",
       "      <td>Boomers</td>\n",
       "    </tr>\n",
       "  </tbody>\n",
       "</table>\n",
       "</div>"
      ],
      "text/plain": [
       "   country  year     sex          age  suicides_no  population  \\\n",
       "0  Albania  1987    male  15-24 years           21      312900   \n",
       "1  Albania  1987    male  35-54 years           16      308000   \n",
       "2  Albania  1987  female  15-24 years           14      289700   \n",
       "3  Albania  1987    male    75+ years            1       21800   \n",
       "4  Albania  1987    male  25-34 years            9      274300   \n",
       "\n",
       "   suicides/100k pop country-year  HDI for year  gdp_for_year ($)   \\\n",
       "0               6.71  Albania1987           NaN      2,156,624,900   \n",
       "1               5.19  Albania1987           NaN      2,156,624,900   \n",
       "2               4.83  Albania1987           NaN      2,156,624,900   \n",
       "3               4.59  Albania1987           NaN      2,156,624,900   \n",
       "4               3.28  Albania1987           NaN      2,156,624,900   \n",
       "\n",
       "   gdp_per_capita ($)       generation  \n",
       "0                 796     Generation X  \n",
       "1                 796           Silent  \n",
       "2                 796     Generation X  \n",
       "3                 796  G.I. Generation  \n",
       "4                 796          Boomers  "
      ]
     },
     "execution_count": 5,
     "metadata": {},
     "output_type": "execute_result"
    }
   ],
   "source": [
    "suicide.head()"
   ]
  },
  {
   "cell_type": "code",
   "execution_count": 6,
   "id": "cdb97855-29a7-4978-967e-ebfb58fb8a75",
   "metadata": {},
   "outputs": [
    {
     "data": {
      "text/plain": [
       "101"
      ]
     },
     "execution_count": 6,
     "metadata": {},
     "output_type": "execute_result"
    }
   ],
   "source": [
    "len(suicide.country.unique())"
   ]
  },
  {
   "cell_type": "markdown",
   "id": "76774a6d-9f7a-4851-b9f9-94e6903eec34",
   "metadata": {},
   "source": [
    "There are 101 countries in the suicide dataset"
   ]
  },
  {
   "cell_type": "code",
   "execution_count": 7,
   "id": "cb2e9a45-4614-441e-b2c3-0a4a96ed67f5",
   "metadata": {},
   "outputs": [
    {
     "name": "stdout",
     "output_type": "stream",
     "text": [
      "<class 'pandas.core.frame.DataFrame'>\n",
      "RangeIndex: 27820 entries, 0 to 27819\n",
      "Data columns (total 12 columns):\n",
      " #   Column              Non-Null Count  Dtype  \n",
      "---  ------              --------------  -----  \n",
      " 0   country             27820 non-null  object \n",
      " 1   year                27820 non-null  int64  \n",
      " 2   sex                 27820 non-null  object \n",
      " 3   age                 27820 non-null  object \n",
      " 4   suicides_no         27820 non-null  int64  \n",
      " 5   population          27820 non-null  int64  \n",
      " 6   suicides/100k pop   27820 non-null  float64\n",
      " 7   country-year        27820 non-null  object \n",
      " 8   HDI for year        8364 non-null   float64\n",
      " 9    gdp_for_year ($)   27820 non-null  object \n",
      " 10  gdp_per_capita ($)  27820 non-null  int64  \n",
      " 11  generation          27820 non-null  object \n",
      "dtypes: float64(2), int64(4), object(6)\n",
      "memory usage: 2.5+ MB\n"
     ]
    }
   ],
   "source": [
    "suicide.info()"
   ]
  },
  {
   "cell_type": "code",
   "execution_count": 8,
   "id": "e4d1a673-cc34-4c90-baf6-501018e137b8",
   "metadata": {},
   "outputs": [
    {
     "data": {
      "text/plain": [
       "country                   0\n",
       "year                      0\n",
       "sex                       0\n",
       "age                       0\n",
       "suicides_no               0\n",
       "population                0\n",
       "suicides/100k pop         0\n",
       "country-year              0\n",
       "HDI for year          19456\n",
       " gdp_for_year ($)         0\n",
       "gdp_per_capita ($)        0\n",
       "generation                0\n",
       "dtype: int64"
      ]
     },
     "execution_count": 8,
     "metadata": {},
     "output_type": "execute_result"
    }
   ],
   "source": [
    "suicide.isnull().sum()"
   ]
  },
  {
   "cell_type": "code",
   "execution_count": 9,
   "id": "addcf192-feb7-422c-a0c9-f9168af0f417",
   "metadata": {},
   "outputs": [
    {
     "name": "stdout",
     "output_type": "stream",
     "text": [
      "The 'HDI for year' column has null accounting for 69.94%\n"
     ]
    }
   ],
   "source": [
    "print(f\"The 'HDI for year' column has null accounting for {round(suicide['HDI for year'].isnull().sum()/len(suicide['HDI for year']), 4)*100}%\")"
   ]
  },
  {
   "cell_type": "markdown",
   "id": "52856f2f-4e81-431e-a41f-1c8c4a34b687",
   "metadata": {},
   "source": [
    "Almost 70% of the HDI data is missing value, so we will handle this issue later on in data cleaning process"
   ]
  },
  {
   "cell_type": "code",
   "execution_count": 10,
   "id": "3aa5c8db-9b38-4e4b-8045-c19606efdcaa",
   "metadata": {},
   "outputs": [
    {
     "data": {
      "text/html": [
       "<div>\n",
       "<style scoped>\n",
       "    .dataframe tbody tr th:only-of-type {\n",
       "        vertical-align: middle;\n",
       "    }\n",
       "\n",
       "    .dataframe tbody tr th {\n",
       "        vertical-align: top;\n",
       "    }\n",
       "\n",
       "    .dataframe thead th {\n",
       "        text-align: right;\n",
       "    }\n",
       "</style>\n",
       "<table border=\"1\" class=\"dataframe\">\n",
       "  <thead>\n",
       "    <tr style=\"text-align: right;\">\n",
       "      <th></th>\n",
       "      <th>year</th>\n",
       "      <th>suicides_no</th>\n",
       "      <th>population</th>\n",
       "      <th>suicides/100k pop</th>\n",
       "      <th>HDI for year</th>\n",
       "      <th>gdp_per_capita ($)</th>\n",
       "    </tr>\n",
       "  </thead>\n",
       "  <tbody>\n",
       "    <tr>\n",
       "      <th>count</th>\n",
       "      <td>27820.000000</td>\n",
       "      <td>27820.000000</td>\n",
       "      <td>2.782000e+04</td>\n",
       "      <td>27820.000000</td>\n",
       "      <td>8364.000000</td>\n",
       "      <td>27820.000000</td>\n",
       "    </tr>\n",
       "    <tr>\n",
       "      <th>mean</th>\n",
       "      <td>2001.258375</td>\n",
       "      <td>242.574407</td>\n",
       "      <td>1.844794e+06</td>\n",
       "      <td>12.816097</td>\n",
       "      <td>0.776601</td>\n",
       "      <td>16866.464414</td>\n",
       "    </tr>\n",
       "    <tr>\n",
       "      <th>std</th>\n",
       "      <td>8.469055</td>\n",
       "      <td>902.047917</td>\n",
       "      <td>3.911779e+06</td>\n",
       "      <td>18.961511</td>\n",
       "      <td>0.093367</td>\n",
       "      <td>18887.576472</td>\n",
       "    </tr>\n",
       "    <tr>\n",
       "      <th>min</th>\n",
       "      <td>1985.000000</td>\n",
       "      <td>0.000000</td>\n",
       "      <td>2.780000e+02</td>\n",
       "      <td>0.000000</td>\n",
       "      <td>0.483000</td>\n",
       "      <td>251.000000</td>\n",
       "    </tr>\n",
       "    <tr>\n",
       "      <th>25%</th>\n",
       "      <td>1995.000000</td>\n",
       "      <td>3.000000</td>\n",
       "      <td>9.749850e+04</td>\n",
       "      <td>0.920000</td>\n",
       "      <td>0.713000</td>\n",
       "      <td>3447.000000</td>\n",
       "    </tr>\n",
       "    <tr>\n",
       "      <th>50%</th>\n",
       "      <td>2002.000000</td>\n",
       "      <td>25.000000</td>\n",
       "      <td>4.301500e+05</td>\n",
       "      <td>5.990000</td>\n",
       "      <td>0.779000</td>\n",
       "      <td>9372.000000</td>\n",
       "    </tr>\n",
       "    <tr>\n",
       "      <th>75%</th>\n",
       "      <td>2008.000000</td>\n",
       "      <td>131.000000</td>\n",
       "      <td>1.486143e+06</td>\n",
       "      <td>16.620000</td>\n",
       "      <td>0.855000</td>\n",
       "      <td>24874.000000</td>\n",
       "    </tr>\n",
       "    <tr>\n",
       "      <th>max</th>\n",
       "      <td>2016.000000</td>\n",
       "      <td>22338.000000</td>\n",
       "      <td>4.380521e+07</td>\n",
       "      <td>224.970000</td>\n",
       "      <td>0.944000</td>\n",
       "      <td>126352.000000</td>\n",
       "    </tr>\n",
       "  </tbody>\n",
       "</table>\n",
       "</div>"
      ],
      "text/plain": [
       "               year   suicides_no    population  suicides/100k pop  \\\n",
       "count  27820.000000  27820.000000  2.782000e+04       27820.000000   \n",
       "mean    2001.258375    242.574407  1.844794e+06          12.816097   \n",
       "std        8.469055    902.047917  3.911779e+06          18.961511   \n",
       "min     1985.000000      0.000000  2.780000e+02           0.000000   \n",
       "25%     1995.000000      3.000000  9.749850e+04           0.920000   \n",
       "50%     2002.000000     25.000000  4.301500e+05           5.990000   \n",
       "75%     2008.000000    131.000000  1.486143e+06          16.620000   \n",
       "max     2016.000000  22338.000000  4.380521e+07         224.970000   \n",
       "\n",
       "       HDI for year  gdp_per_capita ($)  \n",
       "count   8364.000000        27820.000000  \n",
       "mean       0.776601        16866.464414  \n",
       "std        0.093367        18887.576472  \n",
       "min        0.483000          251.000000  \n",
       "25%        0.713000         3447.000000  \n",
       "50%        0.779000         9372.000000  \n",
       "75%        0.855000        24874.000000  \n",
       "max        0.944000       126352.000000  "
      ]
     },
     "execution_count": 10,
     "metadata": {},
     "output_type": "execute_result"
    }
   ],
   "source": [
    "suicide.describe()"
   ]
  },
  {
   "cell_type": "markdown",
   "id": "2a36643a-b737-49db-9c62-e110c1f3726f",
   "metadata": {},
   "source": [
    "There are three points to consider: \n",
    "* is the minimum number of suicidals 0? Does it actually make sense?\n",
    "* The whole population of 278 people per country? Is it reliable?\n",
    "* Again, due to the minimum number of suicidals being at the lowest of 0, the suicides/100k pop is also 0. Is it legitimate?"
   ]
  },
  {
   "cell_type": "markdown",
   "id": "41fbf82f-951c-4efe-a7ec-5113a9536fe4",
   "metadata": {},
   "source": [
    "##### --- HDI Data Set ---"
   ]
  },
  {
   "cell_type": "markdown",
   "id": "d2e42f6a-5b47-4a53-a6bd-0ac973af0297",
   "metadata": {},
   "source": [
    "Now It's time to deal with the aforementioned missing values"
   ]
  },
  {
   "cell_type": "code",
   "execution_count": 11,
   "id": "00205a67-8e23-4a0b-b7e3-fa284fb25d03",
   "metadata": {},
   "outputs": [],
   "source": [
    "hdi = pd.read_csv('./data/hdi.csv')"
   ]
  },
  {
   "cell_type": "code",
   "execution_count": 12,
   "id": "8fa4bf24-d490-41fc-b53b-c5a4bab05ba7",
   "metadata": {},
   "outputs": [
    {
     "data": {
      "text/plain": [
       "(5923, 4)"
      ]
     },
     "execution_count": 12,
     "metadata": {},
     "output_type": "execute_result"
    }
   ],
   "source": [
    "hdi.shape"
   ]
  },
  {
   "cell_type": "code",
   "execution_count": 13,
   "id": "ef6032ae-ccb0-46e3-b389-6f76d17c911e",
   "metadata": {},
   "outputs": [
    {
     "data": {
      "text/html": [
       "<div>\n",
       "<style scoped>\n",
       "    .dataframe tbody tr th:only-of-type {\n",
       "        vertical-align: middle;\n",
       "    }\n",
       "\n",
       "    .dataframe tbody tr th {\n",
       "        vertical-align: top;\n",
       "    }\n",
       "\n",
       "    .dataframe thead th {\n",
       "        text-align: right;\n",
       "    }\n",
       "</style>\n",
       "<table border=\"1\" class=\"dataframe\">\n",
       "  <thead>\n",
       "    <tr style=\"text-align: right;\">\n",
       "      <th></th>\n",
       "      <th>Entity</th>\n",
       "      <th>Code</th>\n",
       "      <th>Year</th>\n",
       "      <th>Human Development Index</th>\n",
       "    </tr>\n",
       "  </thead>\n",
       "  <tbody>\n",
       "    <tr>\n",
       "      <th>3084</th>\n",
       "      <td>Liechtenstein</td>\n",
       "      <td>LIE</td>\n",
       "      <td>2011</td>\n",
       "      <td>0.918</td>\n",
       "    </tr>\n",
       "    <tr>\n",
       "      <th>3263</th>\n",
       "      <td>Malaysia</td>\n",
       "      <td>MYS</td>\n",
       "      <td>2007</td>\n",
       "      <td>0.747</td>\n",
       "    </tr>\n",
       "    <tr>\n",
       "      <th>2981</th>\n",
       "      <td>Lebanon</td>\n",
       "      <td>LBN</td>\n",
       "      <td>2017</td>\n",
       "      <td>0.750</td>\n",
       "    </tr>\n",
       "    <tr>\n",
       "      <th>1810</th>\n",
       "      <td>Fiji</td>\n",
       "      <td>FJI</td>\n",
       "      <td>2000</td>\n",
       "      <td>0.681</td>\n",
       "    </tr>\n",
       "    <tr>\n",
       "      <th>3905</th>\n",
       "      <td>Nigeria</td>\n",
       "      <td>NGA</td>\n",
       "      <td>2007</td>\n",
       "      <td>0.480</td>\n",
       "    </tr>\n",
       "    <tr>\n",
       "      <th>4485</th>\n",
       "      <td>Saint Vincent and the Grenadines</td>\n",
       "      <td>VCT</td>\n",
       "      <td>2016</td>\n",
       "      <td>0.765</td>\n",
       "    </tr>\n",
       "    <tr>\n",
       "      <th>4928</th>\n",
       "      <td>Spain</td>\n",
       "      <td>ESP</td>\n",
       "      <td>1997</td>\n",
       "      <td>0.808</td>\n",
       "    </tr>\n",
       "    <tr>\n",
       "      <th>5829</th>\n",
       "      <td>Yemen</td>\n",
       "      <td>YEM</td>\n",
       "      <td>1992</td>\n",
       "      <td>0.391</td>\n",
       "    </tr>\n",
       "    <tr>\n",
       "      <th>2851</th>\n",
       "      <td>Kyrgyzstan</td>\n",
       "      <td>KGZ</td>\n",
       "      <td>2000</td>\n",
       "      <td>0.621</td>\n",
       "    </tr>\n",
       "    <tr>\n",
       "      <th>4735</th>\n",
       "      <td>Slovakia</td>\n",
       "      <td>SVK</td>\n",
       "      <td>1994</td>\n",
       "      <td>0.711</td>\n",
       "    </tr>\n",
       "  </tbody>\n",
       "</table>\n",
       "</div>"
      ],
      "text/plain": [
       "                                Entity Code  Year  Human Development Index\n",
       "3084                     Liechtenstein  LIE  2011                    0.918\n",
       "3263                          Malaysia  MYS  2007                    0.747\n",
       "2981                           Lebanon  LBN  2017                    0.750\n",
       "1810                              Fiji  FJI  2000                    0.681\n",
       "3905                           Nigeria  NGA  2007                    0.480\n",
       "4485  Saint Vincent and the Grenadines  VCT  2016                    0.765\n",
       "4928                             Spain  ESP  1997                    0.808\n",
       "5829                             Yemen  YEM  1992                    0.391\n",
       "2851                        Kyrgyzstan  KGZ  2000                    0.621\n",
       "4735                          Slovakia  SVK  1994                    0.711"
      ]
     },
     "execution_count": 13,
     "metadata": {},
     "output_type": "execute_result"
    }
   ],
   "source": [
    "hdi.sample(10)"
   ]
  },
  {
   "cell_type": "code",
   "execution_count": 14,
   "id": "55b3b77e-ba7a-471f-8f61-14501069d11c",
   "metadata": {},
   "outputs": [
    {
     "name": "stdout",
     "output_type": "stream",
     "text": [
      "<class 'pandas.core.frame.DataFrame'>\n",
      "RangeIndex: 5923 entries, 0 to 5922\n",
      "Data columns (total 4 columns):\n",
      " #   Column                   Non-Null Count  Dtype  \n",
      "---  ------                   --------------  -----  \n",
      " 0   Entity                   5923 non-null   object \n",
      " 1   Code                     5603 non-null   object \n",
      " 2   Year                     5923 non-null   int64  \n",
      " 3   Human Development Index  5923 non-null   float64\n",
      "dtypes: float64(1), int64(1), object(2)\n",
      "memory usage: 185.2+ KB\n"
     ]
    }
   ],
   "source": [
    "hdi.info()"
   ]
  },
  {
   "cell_type": "markdown",
   "id": "75c20864-673f-4c49-b827-93cfe7d0db0c",
   "metadata": {},
   "source": [
    "Only 'Code' column has null values, and this does not matter at tall since it's going to be dropped"
   ]
  },
  {
   "cell_type": "code",
   "execution_count": 15,
   "id": "f0a8d2b9-01b8-4139-9136-df3f14fb0aee",
   "metadata": {},
   "outputs": [
    {
     "data": {
      "text/plain": [
       "Index(['Entity', 'Code', 'Year', 'Human Development Index'], dtype='object')"
      ]
     },
     "execution_count": 15,
     "metadata": {},
     "output_type": "execute_result"
    }
   ],
   "source": [
    "hdi.columns"
   ]
  },
  {
   "cell_type": "markdown",
   "id": "58956cb6-d803-4b39-b554-87f6ecb1399b",
   "metadata": {},
   "source": [
    "##### --- GPS-Dataset --- "
   ]
  },
  {
   "cell_type": "code",
   "execution_count": 16,
   "id": "40189ce3-257c-4325-937c-6c36e30f97b3",
   "metadata": {},
   "outputs": [],
   "source": [
    "gps = pd.read_csv(\"./data/concap.csv\")"
   ]
  },
  {
   "cell_type": "code",
   "execution_count": 17,
   "id": "3b6e5b1c-b91d-493d-b880-065d9c7c259e",
   "metadata": {},
   "outputs": [
    {
     "data": {
      "text/html": [
       "<div>\n",
       "<style scoped>\n",
       "    .dataframe tbody tr th:only-of-type {\n",
       "        vertical-align: middle;\n",
       "    }\n",
       "\n",
       "    .dataframe tbody tr th {\n",
       "        vertical-align: top;\n",
       "    }\n",
       "\n",
       "    .dataframe thead th {\n",
       "        text-align: right;\n",
       "    }\n",
       "</style>\n",
       "<table border=\"1\" class=\"dataframe\">\n",
       "  <thead>\n",
       "    <tr style=\"text-align: right;\">\n",
       "      <th></th>\n",
       "      <th>CountryName</th>\n",
       "      <th>CapitalName</th>\n",
       "      <th>CapitalLatitude</th>\n",
       "      <th>CapitalLongitude</th>\n",
       "      <th>CountryCode</th>\n",
       "      <th>ContinentName</th>\n",
       "    </tr>\n",
       "  </thead>\n",
       "  <tbody>\n",
       "    <tr>\n",
       "      <th>0</th>\n",
       "      <td>Somaliland</td>\n",
       "      <td>Hargeisa</td>\n",
       "      <td>9.550000</td>\n",
       "      <td>44.050000</td>\n",
       "      <td>NaN</td>\n",
       "      <td>Africa</td>\n",
       "    </tr>\n",
       "    <tr>\n",
       "      <th>1</th>\n",
       "      <td>South Georgia and South Sandwich Islands</td>\n",
       "      <td>King Edward Point</td>\n",
       "      <td>-54.283333</td>\n",
       "      <td>-36.500000</td>\n",
       "      <td>GS</td>\n",
       "      <td>Antarctica</td>\n",
       "    </tr>\n",
       "    <tr>\n",
       "      <th>2</th>\n",
       "      <td>French Southern and Antarctic Lands</td>\n",
       "      <td>Port-aux-Français</td>\n",
       "      <td>-49.350000</td>\n",
       "      <td>70.216667</td>\n",
       "      <td>TF</td>\n",
       "      <td>Antarctica</td>\n",
       "    </tr>\n",
       "    <tr>\n",
       "      <th>3</th>\n",
       "      <td>Palestine</td>\n",
       "      <td>Jerusalem</td>\n",
       "      <td>31.766667</td>\n",
       "      <td>35.233333</td>\n",
       "      <td>PS</td>\n",
       "      <td>Asia</td>\n",
       "    </tr>\n",
       "    <tr>\n",
       "      <th>4</th>\n",
       "      <td>Aland Islands</td>\n",
       "      <td>Mariehamn</td>\n",
       "      <td>60.116667</td>\n",
       "      <td>19.900000</td>\n",
       "      <td>AX</td>\n",
       "      <td>Europe</td>\n",
       "    </tr>\n",
       "  </tbody>\n",
       "</table>\n",
       "</div>"
      ],
      "text/plain": [
       "                                CountryName        CapitalName  \\\n",
       "0                                Somaliland           Hargeisa   \n",
       "1  South Georgia and South Sandwich Islands  King Edward Point   \n",
       "2       French Southern and Antarctic Lands  Port-aux-Français   \n",
       "3                                 Palestine          Jerusalem   \n",
       "4                             Aland Islands          Mariehamn   \n",
       "\n",
       "   CapitalLatitude  CapitalLongitude CountryCode ContinentName  \n",
       "0         9.550000         44.050000         NaN        Africa  \n",
       "1       -54.283333        -36.500000          GS    Antarctica  \n",
       "2       -49.350000         70.216667          TF    Antarctica  \n",
       "3        31.766667         35.233333          PS          Asia  \n",
       "4        60.116667         19.900000          AX        Europe  "
      ]
     },
     "execution_count": 17,
     "metadata": {},
     "output_type": "execute_result"
    }
   ],
   "source": [
    "gps.head()"
   ]
  },
  {
   "cell_type": "code",
   "execution_count": 18,
   "id": "61f22660-9f55-45fc-b7e3-40e8fefefa8b",
   "metadata": {},
   "outputs": [
    {
     "name": "stdout",
     "output_type": "stream",
     "text": [
      "Missing : Cabo Verde\n",
      "Missing : Saint Vincent and Grenadines\n",
      "Missing : Russian Federation\n",
      "Missing : Republic of Korea\n"
     ]
    }
   ],
   "source": [
    "# check for missing countries\n",
    "suicide_countries = suicide.country.unique().tolist()\n",
    "gps_countries = gps.CountryName.unique().tolist()\n",
    "\n",
    "missing_countries = set([country for country in suicide_countries if country not in gps_countries])\n",
    "for i in missing_countries:\n",
    "    print(\"Missing : {}\".format(i))"
   ]
  },
  {
   "cell_type": "code",
   "execution_count": 19,
   "id": "a3341634-ea23-4e4d-8e76-845a2740110a",
   "metadata": {},
   "outputs": [],
   "source": [
    "# update names in the suicide dataset to the gps dataset\n",
    "suicide.replace({'Cabo Verde':'Cape Verde',\n",
    "                 'Republic of Korea':'South Korea',\n",
    "                 'Russian Federation':'Russia',\n",
    "                 'Saint Vincent and Grenadines':'Saint Vincent and the Grenadines'},\n",
    "                inplace=True)"
   ]
  },
  {
   "cell_type": "code",
   "execution_count": 20,
   "id": "5fbe87ac-514b-465e-ac86-da56ab40398e",
   "metadata": {},
   "outputs": [],
   "source": [
    "#join the dataset using the country names as key\n",
    "suicide = suicide.join(gps.set_index('CountryName'), on='country')"
   ]
  },
  {
   "cell_type": "code",
   "execution_count": 21,
   "id": "fca03f62-303f-4d39-a983-e18e7f22b4a1",
   "metadata": {},
   "outputs": [
    {
     "data": {
      "text/html": [
       "<div>\n",
       "<style scoped>\n",
       "    .dataframe tbody tr th:only-of-type {\n",
       "        vertical-align: middle;\n",
       "    }\n",
       "\n",
       "    .dataframe tbody tr th {\n",
       "        vertical-align: top;\n",
       "    }\n",
       "\n",
       "    .dataframe thead th {\n",
       "        text-align: right;\n",
       "    }\n",
       "</style>\n",
       "<table border=\"1\" class=\"dataframe\">\n",
       "  <thead>\n",
       "    <tr style=\"text-align: right;\">\n",
       "      <th></th>\n",
       "      <th>country</th>\n",
       "      <th>year</th>\n",
       "      <th>sex</th>\n",
       "      <th>age</th>\n",
       "      <th>suicides_no</th>\n",
       "      <th>population</th>\n",
       "      <th>suicides/100k pop</th>\n",
       "      <th>country-year</th>\n",
       "      <th>HDI for year</th>\n",
       "      <th>gdp_for_year ($)</th>\n",
       "      <th>gdp_per_capita ($)</th>\n",
       "      <th>generation</th>\n",
       "      <th>CapitalName</th>\n",
       "      <th>CapitalLatitude</th>\n",
       "      <th>CapitalLongitude</th>\n",
       "      <th>CountryCode</th>\n",
       "      <th>ContinentName</th>\n",
       "    </tr>\n",
       "  </thead>\n",
       "  <tbody>\n",
       "    <tr>\n",
       "      <th>0</th>\n",
       "      <td>Albania</td>\n",
       "      <td>1987</td>\n",
       "      <td>male</td>\n",
       "      <td>15-24 years</td>\n",
       "      <td>21</td>\n",
       "      <td>312900</td>\n",
       "      <td>6.71</td>\n",
       "      <td>Albania1987</td>\n",
       "      <td>NaN</td>\n",
       "      <td>2,156,624,900</td>\n",
       "      <td>796</td>\n",
       "      <td>Generation X</td>\n",
       "      <td>Tirana</td>\n",
       "      <td>41.316667</td>\n",
       "      <td>19.816667</td>\n",
       "      <td>AL</td>\n",
       "      <td>Europe</td>\n",
       "    </tr>\n",
       "    <tr>\n",
       "      <th>1</th>\n",
       "      <td>Albania</td>\n",
       "      <td>1987</td>\n",
       "      <td>male</td>\n",
       "      <td>35-54 years</td>\n",
       "      <td>16</td>\n",
       "      <td>308000</td>\n",
       "      <td>5.19</td>\n",
       "      <td>Albania1987</td>\n",
       "      <td>NaN</td>\n",
       "      <td>2,156,624,900</td>\n",
       "      <td>796</td>\n",
       "      <td>Silent</td>\n",
       "      <td>Tirana</td>\n",
       "      <td>41.316667</td>\n",
       "      <td>19.816667</td>\n",
       "      <td>AL</td>\n",
       "      <td>Europe</td>\n",
       "    </tr>\n",
       "    <tr>\n",
       "      <th>2</th>\n",
       "      <td>Albania</td>\n",
       "      <td>1987</td>\n",
       "      <td>female</td>\n",
       "      <td>15-24 years</td>\n",
       "      <td>14</td>\n",
       "      <td>289700</td>\n",
       "      <td>4.83</td>\n",
       "      <td>Albania1987</td>\n",
       "      <td>NaN</td>\n",
       "      <td>2,156,624,900</td>\n",
       "      <td>796</td>\n",
       "      <td>Generation X</td>\n",
       "      <td>Tirana</td>\n",
       "      <td>41.316667</td>\n",
       "      <td>19.816667</td>\n",
       "      <td>AL</td>\n",
       "      <td>Europe</td>\n",
       "    </tr>\n",
       "    <tr>\n",
       "      <th>3</th>\n",
       "      <td>Albania</td>\n",
       "      <td>1987</td>\n",
       "      <td>male</td>\n",
       "      <td>75+ years</td>\n",
       "      <td>1</td>\n",
       "      <td>21800</td>\n",
       "      <td>4.59</td>\n",
       "      <td>Albania1987</td>\n",
       "      <td>NaN</td>\n",
       "      <td>2,156,624,900</td>\n",
       "      <td>796</td>\n",
       "      <td>G.I. Generation</td>\n",
       "      <td>Tirana</td>\n",
       "      <td>41.316667</td>\n",
       "      <td>19.816667</td>\n",
       "      <td>AL</td>\n",
       "      <td>Europe</td>\n",
       "    </tr>\n",
       "    <tr>\n",
       "      <th>4</th>\n",
       "      <td>Albania</td>\n",
       "      <td>1987</td>\n",
       "      <td>male</td>\n",
       "      <td>25-34 years</td>\n",
       "      <td>9</td>\n",
       "      <td>274300</td>\n",
       "      <td>3.28</td>\n",
       "      <td>Albania1987</td>\n",
       "      <td>NaN</td>\n",
       "      <td>2,156,624,900</td>\n",
       "      <td>796</td>\n",
       "      <td>Boomers</td>\n",
       "      <td>Tirana</td>\n",
       "      <td>41.316667</td>\n",
       "      <td>19.816667</td>\n",
       "      <td>AL</td>\n",
       "      <td>Europe</td>\n",
       "    </tr>\n",
       "  </tbody>\n",
       "</table>\n",
       "</div>"
      ],
      "text/plain": [
       "   country  year     sex          age  suicides_no  population  \\\n",
       "0  Albania  1987    male  15-24 years           21      312900   \n",
       "1  Albania  1987    male  35-54 years           16      308000   \n",
       "2  Albania  1987  female  15-24 years           14      289700   \n",
       "3  Albania  1987    male    75+ years            1       21800   \n",
       "4  Albania  1987    male  25-34 years            9      274300   \n",
       "\n",
       "   suicides/100k pop country-year  HDI for year  gdp_for_year ($)   \\\n",
       "0               6.71  Albania1987           NaN      2,156,624,900   \n",
       "1               5.19  Albania1987           NaN      2,156,624,900   \n",
       "2               4.83  Albania1987           NaN      2,156,624,900   \n",
       "3               4.59  Albania1987           NaN      2,156,624,900   \n",
       "4               3.28  Albania1987           NaN      2,156,624,900   \n",
       "\n",
       "   gdp_per_capita ($)       generation CapitalName  CapitalLatitude  \\\n",
       "0                 796     Generation X      Tirana        41.316667   \n",
       "1                 796           Silent      Tirana        41.316667   \n",
       "2                 796     Generation X      Tirana        41.316667   \n",
       "3                 796  G.I. Generation      Tirana        41.316667   \n",
       "4                 796          Boomers      Tirana        41.316667   \n",
       "\n",
       "   CapitalLongitude CountryCode ContinentName  \n",
       "0         19.816667          AL        Europe  \n",
       "1         19.816667          AL        Europe  \n",
       "2         19.816667          AL        Europe  \n",
       "3         19.816667          AL        Europe  \n",
       "4         19.816667          AL        Europe  "
      ]
     },
     "execution_count": 21,
     "metadata": {},
     "output_type": "execute_result"
    }
   ],
   "source": [
    "suicide.head()"
   ]
  },
  {
   "cell_type": "markdown",
   "id": "55a41523-fb97-486f-946d-706943d0d076",
   "metadata": {},
   "source": [
    "### Data Cleaning"
   ]
  },
  {
   "cell_type": "markdown",
   "id": "636d496f-5be5-4e5f-9cc1-9bd62f3f415c",
   "metadata": {},
   "source": [
    "##### --- Modifying columns'name in both datasets to them make easier to access for the upcoming tasks ---"
   ]
  },
  {
   "cell_type": "code",
   "execution_count": 22,
   "id": "d4332887-0791-4060-86af-40f4bfb82b7a",
   "metadata": {},
   "outputs": [],
   "source": [
    "hdi.columns = [col.lower().strip().replace(' ', '_') for col in hdi.columns]\n",
    "suicide.columns = [col.lower().strip().replace(' ', '_') for col in suicide.columns]"
   ]
  },
  {
   "cell_type": "code",
   "execution_count": 23,
   "id": "efdd5a6b-0eab-41b9-8117-d5eb5c12881d",
   "metadata": {},
   "outputs": [
    {
     "name": "stdout",
     "output_type": "stream",
     "text": [
      "Index(['entity', 'code', 'year', 'human_development_index'], dtype='object')\n",
      "\n",
      "Index(['country', 'year', 'sex', 'age', 'suicides_no', 'population',\n",
      "       'suicides/100k_pop', 'country-year', 'hdi_for_year', 'gdp_for_year_($)',\n",
      "       'gdp_per_capita_($)', 'generation', 'capitalname', 'capitallatitude',\n",
      "       'capitallongitude', 'countrycode', 'continentname'],\n",
      "      dtype='object')\n"
     ]
    }
   ],
   "source": [
    "print(hdi.columns, suicide.columns, sep='\\n\\n')"
   ]
  },
  {
   "cell_type": "code",
   "execution_count": 24,
   "id": "b738cee7-e68a-46bb-a331-e936d2dca68a",
   "metadata": {},
   "outputs": [],
   "source": [
    "hdi = hdi.rename(columns={'human_development_index':'hdi', 'entity':'country'})\n",
    "suicide = suicide.rename(columns={'entity':'country', 'hdi_for_year':'hdi',\n",
    "                                 'gdp_for_year_($)': 'gdp_for_year',\n",
    "                                 'gdp_per_capita_($)': 'gdp_per_capita',\n",
    "                                 'capitalname':'capital_name',\n",
    "                                 'capitallatitude':'capital_lattitude',\n",
    "                                 'capitallongitude':'capital_longitude',\n",
    "                                 'countrycode':'country_code',\n",
    "                                 'continentname':'continent_name'})"
   ]
  },
  {
   "cell_type": "code",
   "execution_count": 25,
   "id": "106e294f-897e-40ca-b022-3cb63a7f0628",
   "metadata": {},
   "outputs": [
    {
     "name": "stdout",
     "output_type": "stream",
     "text": [
      "Index(['country', 'code', 'year', 'hdi'], dtype='object')\n",
      "\n",
      "Index(['country', 'year', 'sex', 'age', 'suicides_no', 'population',\n",
      "       'suicides/100k_pop', 'country-year', 'hdi', 'gdp_for_year',\n",
      "       'gdp_per_capita', 'generation', 'capital_name', 'capital_lattitude',\n",
      "       'capital_longitude', 'country_code', 'continent_name'],\n",
      "      dtype='object')\n"
     ]
    }
   ],
   "source": [
    "print(hdi.columns, suicide.columns, sep='\\n\\n')"
   ]
  },
  {
   "cell_type": "markdown",
   "id": "89e684fe-2db8-4176-8380-ce9014849829",
   "metadata": {},
   "source": [
    "##### --- Eliminating some unrequired features in both datasets ---"
   ]
  },
  {
   "cell_type": "code",
   "execution_count": 26,
   "id": "91924c7e-6097-44ca-bdac-06e149f60b46",
   "metadata": {},
   "outputs": [],
   "source": [
    "hdi = hdi.drop(columns=['code'])\n",
    "suicide = suicide.drop(columns=['country-year', 'country_code', 'capital_name'])"
   ]
  },
  {
   "cell_type": "code",
   "execution_count": 27,
   "id": "ddbde3b4-f2f9-4ade-95a6-d5b86233bdba",
   "metadata": {},
   "outputs": [
    {
     "name": "stdout",
     "output_type": "stream",
     "text": [
      "Index(['country', 'year', 'hdi'], dtype='object')\n",
      "\n",
      "Index(['country', 'year', 'sex', 'age', 'suicides_no', 'population',\n",
      "       'suicides/100k_pop', 'hdi', 'gdp_for_year', 'gdp_per_capita',\n",
      "       'generation', 'capital_lattitude', 'capital_longitude',\n",
      "       'continent_name'],\n",
      "      dtype='object')\n"
     ]
    }
   ],
   "source": [
    "print(hdi.columns, suicide.columns, sep='\\n\\n')"
   ]
  },
  {
   "cell_type": "markdown",
   "id": "ea70e9ff-5040-4979-84d6-331eb802727d",
   "metadata": {},
   "source": [
    "##### --- Check for null, missing and zero values ---"
   ]
  },
  {
   "cell_type": "code",
   "execution_count": 28,
   "id": "ca285950-7e41-457d-984a-2119e5af8eaa",
   "metadata": {},
   "outputs": [
    {
     "name": "stderr",
     "output_type": "stream",
     "text": [
      "\n",
      "KeyboardInterrupt\n",
      "\n"
     ]
    },
    {
     "data": {
      "image/png": "[encoded data removed]",
      "text/plain": [
       "<Figure size 1000x500 with 2 Axes>"
      ]
     },
     "metadata": {},
     "output_type": "display_data"
    }
   ],
   "source": [
    "plt.figure(figsize=(10,5), dpi=100)\n",
    "plt.title(\"Null, Missing and Zero Values Heatmap - Suicide Dataset\")\n",
    "sns.heatmap((suicide.isnull()) | (suicide == 0))\n",
    "plt.show()"
   ]
  },
  {
   "cell_type": "code",
   "execution_count": null,
   "id": "0b0c4816-8fe8-48a4-97ec-13bb13e6badc",
   "metadata": {},
   "outputs": [],
   "source": [
    "plt.figure(figsize=(10,5), dpi=120)\n",
    "plt.title(\"Null, Missing and Zero Values Heatmap - HDI Dataset\")\n",
    "sns.heatmap((hdi.isnull()) | (hdi == 0))\n",
    "plt.show()"
   ]
  },
  {
   "cell_type": "markdown",
   "id": "cc4745e6-6a85-48d1-abdd-5741154c6db4",
   "metadata": {},
   "source": [
    "##### --- Duplicate Value Checking --- "
   ]
  },
  {
   "cell_type": "code",
   "execution_count": null,
   "id": "3a9b6072-58cc-4990-9e79-080414de3061",
   "metadata": {},
   "outputs": [],
   "source": [
    "print(\"Duplicate Value Count: \", suicide.duplicated().sum())"
   ]
  },
  {
   "cell_type": "markdown",
   "id": "32c6023b-a2e3-4a13-aeca-776022d56839",
   "metadata": {},
   "source": [
    "##### --- Dealing with missing values of HDI ---"
   ]
  },
  {
   "cell_type": "markdown",
   "id": "383008ef-b1a5-49fb-bc8e-ab32ce539f84",
   "metadata": {},
   "source": [
    "* The Human Development Index is a slow moving index (We might need a visual evidence for this statment???)\n",
    "* There are 2 steps to implement:\n",
    "<ol>\n",
    "    <li>use the hdi, retrieved from Our World in Data website, to fill those missing values based on country and year</li>\n",
    "    <li>if there are any missing values left, we will use forward filling technique</li>\n",
    "</ol>\n",
    "* Note that : Using forward filling technique will not significantly impact the analysis"
   ]
  },
  {
   "cell_type": "code",
   "execution_count": null,
   "id": "370a029e-4789-4ab3-833d-b31b7738d1df",
   "metadata": {},
   "outputs": [],
   "source": [
    "# drop HDI feature in suicide dataset before merging\n",
    "suicide = suicide.drop(columns='hdi')"
   ]
  },
  {
   "cell_type": "markdown",
   "id": "aa057d5c-f3c8-4e12-8270-7b023a448fd0",
   "metadata": {},
   "source": [
    "##### ------ Implementing the first step ------"
   ]
  },
  {
   "cell_type": "code",
   "execution_count": null,
   "id": "05f87692-2f56-4160-80f8-831ccdaa8eea",
   "metadata": {},
   "outputs": [],
   "source": [
    "# We will merge those two dataframes without eliminating any rows in suicide dataset (suicide dataset left join hdi dataset)\n",
    "df = pd.merge(suicide, hdi, how='left', on=['country', 'year'])"
   ]
  },
  {
   "cell_type": "code",
   "execution_count": null,
   "id": "97eebdc5-e73c-4c40-80b7-66e9228eba8d",
   "metadata": {},
   "outputs": [],
   "source": [
    "df.isnull().sum()"
   ]
  },
  {
   "cell_type": "code",
   "execution_count": null,
   "id": "344c7ebd-d6ba-40a9-aba8-444c965f05b1",
   "metadata": {},
   "outputs": [],
   "source": [
    "remaining_null = df['hdi'].isnull().sum()/len(df['hdi'])\n",
    "print(f\"Remaining missing values of HDI data is about {round(remaining_null,4)*100}%\")"
   ]
  },
  {
   "cell_type": "markdown",
   "id": "91b63e4c-6122-41f0-8a77-6ed2b6ccb062",
   "metadata": {},
   "source": [
    "The null proportion dramatically decreases from alomost 70% to 21.26%, showing a decrease by roughly 50%"
   ]
  },
  {
   "cell_type": "markdown",
   "id": "d080ba8b-bac4-4e9c-8579-487f8ea93b0f",
   "metadata": {},
   "source": [
    "##### ------ Implementing the second step ------"
   ]
  },
  {
   "cell_type": "code",
   "execution_count": null,
   "id": "8890ffe9-5dfa-426b-a1c7-f5e143e9f11a",
   "metadata": {},
   "outputs": [],
   "source": [
    "df['hdi'].fillna(method='bfill', inplace=True)"
   ]
  },
  {
   "cell_type": "code",
   "execution_count": null,
   "id": "a8fe3a90-4247-4b0d-a14f-d0466e70eaa8",
   "metadata": {},
   "outputs": [],
   "source": [
    "remaining_null = df['hdi'].isnull().sum()/len(df['hdi'])\n",
    "print(f\"Remaining missing values of HDI data is about {round(remaining_null,4)*100}%\")"
   ]
  },
  {
   "cell_type": "markdown",
   "id": "210cc1ee-c3ef-480d-8202-cee43b53bcfa",
   "metadata": {},
   "source": [
    "##### --- Check how much of data is collected in each year ---"
   ]
  },
  {
   "cell_type": "code",
   "execution_count": null,
   "id": "8cb88589-3edf-4c0f-a394-0a80366c37ab",
   "metadata": {},
   "outputs": [],
   "source": [
    "years = list(df['year'].unique())\n",
    "data_count = [len(df[df['year'] == year]) for year in years]"
   ]
  },
  {
   "cell_type": "code",
   "execution_count": null,
   "id": "697bdc98-7a41-43ef-bbc4-2ea9eacafdda",
   "metadata": {},
   "outputs": [],
   "source": [
    "#visualise the difference in each year\n",
    "plt.figure(figsize=(10,6), dpi=100)\n",
    "plt.title(\"Proportion of Data Collected in Each Year\")\n",
    "plt.xlabel(\"Year\")\n",
    "plt.ylabel(\"Count(s)\")\n",
    "ax = sns.barplot(x=years, y=data_count)\n",
    "ax.set_xticklabels(ax.get_xticklabels(), rotation=90)\n",
    "plt.show()"
   ]
  },
  {
   "cell_type": "markdown",
   "id": "e5826468-dae9-4da2-9103-c3f3a6d4e361",
   "metadata": {},
   "source": [
    "Since there is significantly less data collected in 2016 as opposed to other years, so we will exclude the 2016 data from our analysis."
   ]
  },
  {
   "cell_type": "code",
   "execution_count": null,
   "id": "0821fb94-41d7-4f02-b0ee-a31c2ca510d1",
   "metadata": {},
   "outputs": [],
   "source": [
    "df.drop(df[df['year'] == 2016].index, inplace=True)"
   ]
  },
  {
   "cell_type": "markdown",
   "id": "a2db764e-d951-41c5-8ba4-dfead2b70b1e",
   "metadata": {},
   "source": [
    "##### --- Dealing with zero values in suicides_no and suicides/100k_pop columns ---\n"
   ]
  },
  {
   "cell_type": "markdown",
   "id": "898519ad-b3d3-4538-9e52-f92370074c0d",
   "metadata": {},
   "source": [
    "According to statistics from [World Population Review](https://worldpopulationreview.com/country-rankings/suicide-rate-by-country), we decide to the fill those nulls with the mean which is calculated based country column, despite the fact that some countries may have zero suicidals due to cultural, religious or polical reasons."
   ]
  },
  {
   "cell_type": "code",
   "execution_count": null,
   "id": "255ad513-007c-4e59-84cc-f910d6a0badd",
   "metadata": {},
   "outputs": [],
   "source": [
    "df['suicides_no'] = df.groupby('country')['suicides_no'].transform(lambda x: x.replace(0, np.ceil(x.mean())))\n",
    "df['suicides/100k_pop'] = df.groupby('country')['suicides/100k_pop'].transform(lambda x: x.replace(0, np.ceil(x.mean())))"
   ]
  },
  {
   "cell_type": "code",
   "execution_count": null,
   "id": "2f4e0bab-9671-4801-bdef-bd6e679e30e7",
   "metadata": {},
   "outputs": [],
   "source": [
    "#recheck if there is any remaining zero values\n",
    "plt.figure(figsize=(10,5), dpi=80)\n",
    "plt.title(\"Zero Values Heatmap - Suicide Dataset\")\n",
    "sns.heatmap(df == 0)\n",
    "plt.show()"
   ]
  },
  {
   "cell_type": "markdown",
   "id": "c5ede600-7c11-4b27-be51-9684b0dd3213",
   "metadata": {},
   "source": [
    "# Modeling"
   ]
  },
  {
   "cell_type": "markdown",
   "id": "691f0515-9d42-4cfc-bf9c-23d9ddd4ea25",
   "metadata": {},
   "source": [
    "In this data mining, we have decided to utilise predictive method, so it is unavoidably to conduct an exploratory data analysis so as to gain either possibly useful insights or an importance of each variable; this will surely help us make a better decision to choose a machine learning algorithm."
   ]
  },
  {
   "cell_type": "markdown",
   "id": "cfb4af9a-553a-4a67-bdfd-706af00e7913",
   "metadata": {},
   "source": [
    "## Data Overview (Before Descriptive Procedure)"
   ]
  },
  {
   "cell_type": "markdown",
   "id": "c85898b7-16b1-4e1f-a1fa-9c2be26b40c5",
   "metadata": {},
   "source": [
    "According to this [worldometer](https://www.worldometers.info/world-population/population-by-country/), we have ten most populous countries in the world listed below"
   ]
  },
  {
   "cell_type": "code",
   "execution_count": null,
   "id": "145f36e6-018f-4d3a-bd69-9f451af182b3",
   "metadata": {},
   "outputs": [],
   "source": [
    "# top 10 populous countries in the world\n",
    "top10 = ['China','India','United States','Indonesia','Brazil','Pakistan','Nigeria','Bangladesh','Russia','Mexico']\n",
    "\n",
    "in_set = df[df['country'].isin(top10)]['country'].unique().tolist()\n",
    "\n",
    "print(f'Only {len(in_set)} countries are present in our final dataset', in_set, sep='\\n\\n')"
   ]
  },
  {
   "cell_type": "code",
   "execution_count": null,
   "id": "01bb507f-0ceb-478b-ad43-105e107b5c0b",
   "metadata": {},
   "outputs": [],
   "source": [
    "#how many countries are there in the dataset? What continent are they on? How long does the dataset collected?\n",
    "print('Dataset has', len(df.country.unique()), 'countries on', len(df.continent_name.unique()), \n",
    "      'continents spanning', len(df.year.unique()), 'years.')"
   ]
  },
  {
   "cell_type": "markdown",
   "id": "e6720543-79ea-4fcb-94d6-cca24e31e881",
   "metadata": {},
   "source": [
    "##### --- the general overiew of our final dataset ---"
   ]
  },
  {
   "cell_type": "code",
   "execution_count": null,
   "id": "b82aea4b-9bc7-46dc-bce9-4e924616e337",
   "metadata": {},
   "outputs": [],
   "source": [
    "#  population, population percent and country count per continent\n",
    "df_cont = df.groupby('continent_name')['population'].sum().reset_index()\n",
    "df_cont['population_percentage'] = df_cont['population']*100/df_cont['population'].sum()\n",
    "\n",
    "#  countries count per continent\n",
    "country_continent = df['country'].groupby(df['continent_name']).nunique()\n",
    "\n",
    "#  add countryCount column to df_cont\n",
    "df_cont['country_count'] = country_continent[df_cont['continent_name']].values \n",
    "\n",
    "\n",
    "#  PLOTs - Population AND Country Count per Continent \n",
    "plt.figure(figsize=(10,6), dpi=120)\n",
    "plt.subplot(121)\n",
    "ax = sns.barplot(data = df_cont, x = 'population_percentage', y='continent_name')\n",
    "plt.title('Population', fontsize=14)\n",
    "plt.xlim([0,45])\n",
    "plt.ylabel(\"\")\n",
    "plt.box(False)\n",
    "for p in ax.patches:\n",
    "    ax.annotate(\"{:,.1f}%\".format(p.get_width()), (p.get_x() + p.get_width(), p.get_y()+.4), ha='left', va='center')\n",
    "\n",
    "plt.subplot(122)\n",
    "ax = sns.barplot(data = df_cont, x = 'continent_name', y='country_count')\n",
    "plt.title('Country Count\\n({} countries)'.format(df_cont.country_count.sum()), fontsize=14)\n",
    "plt.xlabel('')\n",
    "plt.xticks(rotation = 90)\n",
    "plt.ylim([0,50])\n",
    "plt.box(False)\n",
    "for p in ax.patches:\n",
    "    ax.annotate(\"%.0f\" % p.get_height(), (p.get_x() + p.get_width()/2, p.get_height()+2), ha='center', va='center')\n",
    "\n",
    "plt.subplots_adjust(wspace=0.4)    \n",
    "plt.show()"
   ]
  },
  {
   "cell_type": "markdown",
   "id": "2bc2bb70-0a76-4c0d-aad3-211e0972c961",
   "metadata": {},
   "source": [
    "There are 4 points to keep in mind while doing the analysis as well as creating predictive models:\n",
    "* Only 4 out of 10 countries are present, meaning 6 countries are missing.\n",
    "* **China** and **India** accounts for roughly 36% of the global population but are missing\n",
    "* **Europe** has 43 out of 98 countries in the data and accounts for about 38% of the population\n",
    "* This analysis is likely to be skewed towards European countries"
   ]
  },
  {
   "cell_type": "markdown",
   "id": "0e6ccc32-88eb-486b-a03b-5b057ef49977",
   "metadata": {},
   "source": [
    "## Descriptive Procedure (Explotory Data Analysis)"
   ]
  },
  {
   "cell_type": "markdown",
   "id": "76291c5e-fc0c-49ee-b414-2fd62c6f17db",
   "metadata": {},
   "source": [
    "#### Insights From Considering the Data For 31 Years (1985-2015)"
   ]
  },
  {
   "cell_type": "markdown",
   "id": "6d2aad5f-18e6-4f65-85f6-29e2e0861146",
   "metadata": {},
   "source": [
    "##### --- Which country has the highest suicide rate for the 100,000 population ---"
   ]
  },
  {
   "cell_type": "code",
   "execution_count": null,
   "id": "0dc49f00-62a4-4868-b96c-c70b4dbd9c84",
   "metadata": {},
   "outputs": [],
   "source": [
    "country_list = df.country.unique()\n",
    "country_suicide_ratio = list()\n",
    "\n",
    "for country in country_list:\n",
    "    temp_data = df[df.country == country]\n",
    "    country_suicide_rate = sum(temp_data['suicides/100k_pop'])/len(temp_data)\n",
    "    country_suicide_ratio.append(country_suicide_rate)\n",
    "\n",
    "data = pd.DataFrame({'country_list':country_list, 'country_suicide_ratio':country_suicide_ratio})\n",
    "new_index = (data['country_suicide_ratio'].sort_values(ascending=False)).index.values\n",
    "sorted_data = data.reindex(new_index)\n",
    "\n",
    "# a bar plot\n",
    "plt.figure(figsize=(16,10), dpi=100)\n",
    "sns.barplot(x=sorted_data['country_list'], y=sorted_data['country_suicide_ratio'])\n",
    "plt.xticks(rotation=90, fontsize=8)\n",
    "plt.xlabel('Country',)\n",
    "plt.ylabel(\"Suicide Rate\")\n",
    "plt.title('The Overall Suicide Rate For The 100,000 population of Each Country (1985-2015)', fontweight='bold')\n",
    "plt.show()"
   ]
  },
  {
   "cell_type": "markdown",
   "id": "bd2f74d8-f7b3-44a6-a585-a1098845f986",
   "metadata": {},
   "source": [
    "Why was Lithuania's suicide rate much higher than other countries?\n",
    "\n",
    "In accordance with this [blog](https://medium.com/@anna.samoylova/why-does-lithuania-have-so-many-suicides-ceead51d569e) from Medium website, suicide is complicated social due to  a number of reasons contributing to it; however, two highly possible factors of the high suicide rate of this country can be: \n",
    "* high alcohol consumption\n",
    "* wide spread of mental health issues, particularly depression, but lacks of proper mental health facilities and professionals"
   ]
  },
  {
   "cell_type": "markdown",
   "id": "725ea60d-9a47-4b40-8772-387729030508",
   "metadata": {},
   "source": [
    "##### -- How old were those who committed suicide? ---"
   ]
  },
  {
   "cell_type": "code",
   "execution_count": null,
   "id": "46137a72-bc35-480c-8290-a305b7efcfbd",
   "metadata": {},
   "outputs": [],
   "source": [
    "data = df[['age', 'suicides/100k_pop']].groupby(['age'], as_index=False).mean().sort_values(by='suicides/100k_pop', ascending=False)\n",
    "\n",
    "plt.figure(figsize=(12,10))\n",
    "sns.set_palette(\"Blues_r\")\n",
    "ax = sns.barplot(data = data, x = 'age', y='suicides/100k_pop')\n",
    "plt.title('The Difference of Suicide Rate Between All Age Group (1985-2015)')\n",
    "plt.xlabel('Age Interval')\n",
    "plt.xticks(rotation=90)\n",
    "plt.ylabel('Suicides Rate Per 100,000 People')\n",
    "plt.ylim([0,30])\n",
    "for p in ax.patches:\n",
    "    ax.annotate(\"%.2f\" % p.get_height(), (p.get_x() + p.get_width()/2, p.get_height()+1), ha='center', va='center')"
   ]
  },
  {
   "cell_type": "markdown",
   "id": "4a690084-bfdd-4193-b822-aed3920fe690",
   "metadata": {},
   "source": [
    "The oldest group, 75+ years old, has the hightest suicide rate per 100,000 population, while the lowest is of 5-14 year old group. "
   ]
  },
  {
   "cell_type": "markdown",
   "id": "786ffff6-b4f3-46b8-8d62-416cc7c205e9",
   "metadata": {},
   "source": [
    "##### Using F-test (One-Way ANOVA) to check if there is a dependence of suicide rate on the age group\n",
    "<br>The hypothesis statements for this test are:\n",
    "$$H_0: \\text{Suicide rate and age are independent}$$$$H_1: \\text{Suicide rate and age  are dependent}$$"
   ]
  },
  {
   "cell_type": "code",
   "execution_count": null,
   "id": "2c9e60ba-4639-4670-8bd5-f6663ec7ad48",
   "metadata": {},
   "outputs": [],
   "source": [
    "import scipy.stats as stats"
   ]
  },
  {
   "cell_type": "code",
   "execution_count": null,
   "id": "d4f51237-5ddb-408c-ab80-c2616b937d4f",
   "metadata": {},
   "outputs": [],
   "source": [
    "age_group = [[] for _ in range(len(df.age.unique()))]\n",
    "i = 0\n",
    "for age in sorted(df.age.unique()):\n",
    "    age_group[i] = df['suicides/100k_pop'][df['age'] == age]\n",
    "    i+=1"
   ]
  },
  {
   "cell_type": "code",
   "execution_count": null,
   "id": "c635f130-244d-4fe0-9d5b-46d38dd22e2a",
   "metadata": {},
   "outputs": [],
   "source": [
    "f_stat, pval = stats.f_oneway(age_group[0], age_group[1], age_group[2], age_group[3], age_group[4])\n",
    "\n",
    "print(\"F-statistic:\", f_stat)\n",
    "print(\"p-value:\", pval)"
   ]
  },
  {
   "cell_type": "code",
   "execution_count": null,
   "id": "150c387a-ab57-4c69-a009-56bf1e8c4138",
   "metadata": {},
   "outputs": [],
   "source": [
    "if (pval < 0.05):\n",
    "    print(\"Reject the null hypothesis\")\n",
    "else:\n",
    "    print(\"Accept the null hypothesis\")"
   ]
  },
  {
   "cell_type": "markdown",
   "id": "a6da8d4a-206a-4761-911f-2a32ffd94dc7",
   "metadata": {},
   "source": [
    "$$ \\text{By performing F-test (One-Way ANOVA), we can conclude that suicide rate and age are dependent with the confidence of 95\\%} $$"
   ]
  },
  {
   "cell_type": "markdown",
   "id": "903fe007-889f-43b5-986a-bbfab8675cd0",
   "metadata": {},
   "source": [
    "\n",
    "Why do old people commit suicide? Based on this [blog](https://www.psychologytoday.com/us/blog/understanding-grief/202001/why-do-the-elderly-commit-suicide), an elderly individual is likely to commit suicide due to many possible reasons such as:\n",
    "* loneliness because of losses of spouse, friends, family, pet, etc.\n",
    "* physical health problem as well as mental health issues\n",
    "* (this is my opinion) financial circumstances<br><br>\n",
    "\n",
    "Why do young people commit suicide? As for the group aged between 5 to 24, despite having the low suicide rate compared to that of the older group, young people might commit suicide because of these reasons:\n",
    "* academic failure\n",
    "* bullying, shaming, cyberbullying\n",
    "* financial problems\n",
    "* loss of social status\n",
    "* loss of a close relationship or romantic relationship\n",
    "* loss of friends or family acceptance due to revealing your sexual orientation"
   ]
  },
  {
   "cell_type": "markdown",
   "id": "0f98ee6c-5eef-41a9-8db9-5fcebad665c9",
   "metadata": {},
   "source": [
    "##### --- Gender Ratio of Those Who Committed Suicide ---"
   ]
  },
  {
   "cell_type": "code",
   "execution_count": null,
   "id": "9e45ea06-d510-48b6-8161-55a9c144f432",
   "metadata": {},
   "outputs": [],
   "source": [
    "data = df[['sex', 'suicides/100k_pop']].groupby(['sex'], as_index=False).mean()\n",
    "\n",
    "plt.figure(figsize=(6,10), dpi=100)\n",
    "sns.set_palette(\"mako\")\n",
    "ax = sns.barplot(data=data, x='sex',y='suicides/100k_pop')\n",
    "plt.xlabel(\"Sex\")\n",
    "plt.ylabel(\"Suicide Rate Per 100,000 People\")\n",
    "plt.title(\"Gender Ratio of Those Who Committed Suicide (1985-2015)\")\n",
    "\n",
    "for p in ax.patches:\n",
    "    ax.annotate(\"%.2f\" % p.get_height(), (p.get_x() + p.get_width()/2, p.get_height()+0.5), ha='center', va='center')\n",
    "    \n",
    "plt.show()"
   ]
  },
  {
   "cell_type": "markdown",
   "id": "bbd2c87d-79d1-4149-9684-5a8a098cb804",
   "metadata": {},
   "source": [
    "Surprisingly, the average suicide rate among men is about 3 times higher than that of women."
   ]
  },
  {
   "cell_type": "markdown",
   "id": "9ced5a16-6c25-48ff-ab71-096a4399a175",
   "metadata": {},
   "source": [
    "##### Using independent sample t-test to check the difference in suicide rates between males and females with the confidence level of 95%.\n",
    "<br>The hypothesis statements for this test are:\n",
    "$$H_0: \\text{There is no difference in the suicide rates among males and females}$$$$H_1: \\text{There is a difference in the suicide rates among males and females}$$\n",
    "<br>OR<br>\n",
    "$$ \\text{Let } \\mu = \\text{ the average suicide rates of population}$$\n",
    "$$H_0: \\mu_\\text{ males} = \\mu_\\text{ females} $$$$ H_1: \\mu_\\text{ males} \\neq \\mu_\\text{ females}$$"
   ]
  },
  {
   "cell_type": "code",
   "execution_count": null,
   "id": "bdc9d0e6-1bf8-4951-8139-c04a4d8464ca",
   "metadata": {},
   "outputs": [],
   "source": [
    "from scipy import stats"
   ]
  },
  {
   "cell_type": "code",
   "execution_count": null,
   "id": "2237abd8-4693-4ede-8a15-5e41db3f06de",
   "metadata": {},
   "outputs": [],
   "source": [
    "male = df['suicides/100k_pop'][df['sex'] == 'male']\n",
    "female = df['suicides/100k_pop'][df['sex'] == 'female']"
   ]
  },
  {
   "cell_type": "code",
   "execution_count": null,
   "id": "07fe35f0-ae3c-444b-bb92-b951839dd6b1",
   "metadata": {},
   "outputs": [],
   "source": [
    "# calculate p-value\n",
    "ttest, pval = stats.ttest_rel(male, female)\n",
    "\n",
    "print(f't-test value = {ttest}')\n",
    "print(f'p-value = {np.round(pval, 4)}')"
   ]
  },
  {
   "cell_type": "code",
   "execution_count": null,
   "id": "73f20f2c-955a-49e5-9501-dc6015faba41",
   "metadata": {},
   "outputs": [],
   "source": [
    "if pval < 0.05:\n",
    "    print(\"Reject the Null Hypothesis\")\n",
    "else:\n",
    "    print(\"Accept the Null Hypothesis\")"
   ]
  },
  {
   "cell_type": "markdown",
   "id": "5dbf86ae-7a5d-44f4-aefe-41fd9e2ed8e3",
   "metadata": {},
   "source": [
    "$$ \\text{By performing T-test, we can conclude that there is a difference in suicide rates among males and females for entire population with the confidence level of 95\\%} $$"
   ]
  },
  {
   "cell_type": "markdown",
   "id": "0464ef0b-8ceb-4749-a659-0f80f7fff7da",
   "metadata": {},
   "source": [
    "Hm...Why? According to this [blog](https://www.verywellmind.com/gender-differences-in-suicide-methods-1067508) from __verywellmind__, there a few points to consider:\n",
    "* women are more likely to attempt suicide than men; nevertheless, men are more likely to die by suicide than women\n",
    "* men tend to choose more lethal methods than women, making men more likely to complete the process before anyone can intervene.\n",
    "* popular men's methods are firearms or hanginng while overdosing or medication are most chosen by women."
   ]
  },
  {
   "cell_type": "markdown",
   "id": "f471efd7-6d4e-42a4-a5f7-a47b34d8cbd2",
   "metadata": {},
   "source": [
    "##### --- The Difference in Suicide Rate Between Generations ---"
   ]
  },
  {
   "cell_type": "code",
   "execution_count": null,
   "id": "df530c2f-f29c-42ff-b2dc-8609c44bb82e",
   "metadata": {},
   "outputs": [],
   "source": [
    "data = df[['generation', 'suicides/100k_pop']].groupby(['generation'], as_index=False).mean()\n",
    "\n",
    "x_values = ['G.I. Generation (1901-1927)', 'Silent (1928-1945)', 'Boomers (1946-1964)',  'Generation X (1965-1980)', 'Millenials (1981-1996)','Generation Z (1997-2012)']\n",
    "\n",
    "plt.figure(figsize=(12,8), dpi=80)\n",
    "sns.set_palette(\"mako\")\n",
    "ax = sns.barplot(x=x_values,y=data['suicides/100k_pop'][[1, 5, 0, 2, 4, 3]])\n",
    "plt.xlabel(\"Generation\")\n",
    "plt.xticks(rotation=60)\n",
    "plt.ylabel(\"Suicide Rate Per 100,000 People\")\n",
    "plt.title(\"The Difference in Suicide Rate Between Generations (1985-2015)\", fontweight='bold')\n",
    "\n",
    "for p in ax.patches:\n",
    "    ax.annotate(\"%.2f\" % p.get_height(), (p.get_x() + p.get_width()/2, p.get_height()+0.5), ha='center', va='center')"
   ]
  },
  {
   "cell_type": "markdown",
   "id": "84693078-26e8-49ca-b290-737b44f7940c",
   "metadata": {},
   "source": [
    "As for the bar graph above, we can clearly see that the newer generation is, the less the suicide rate is. There are a multitude of reasons contributing to the decline in suicide rate from generation to generation, and to name a few, 3 obvious factors are:\n",
    "* an increase in awareness about mental health issues and suicide prevention\n",
    "* an increase in access to mental health services\n",
    "* the emergence of social media"
   ]
  },
  {
   "cell_type": "markdown",
   "id": "9fb2a663-dfc8-4d09-b612-f05ff634a8e6",
   "metadata": {},
   "source": [
    "### Insights Based on Years"
   ]
  },
  {
   "cell_type": "markdown",
   "id": "c0e714fa-6c92-4739-9665-6ee9d4ddb9c2",
   "metadata": {},
   "source": [
    "##### --- Number of Suicides by Gender Based on Each Year ---"
   ]
  },
  {
   "cell_type": "code",
   "execution_count": null,
   "id": "46846e44-18f2-47f8-bf78-8c683ad05afd",
   "metadata": {},
   "outputs": [],
   "source": [
    "plt.figure(figsize=(25,10), dpi=100)\n",
    "sns.set_style('whitegrid')\n",
    "sns.set_palette('tab10')\n",
    "#sns.set_context('paper', 2.0, {\"lines.linewidth\":1})\n",
    "sns.barplot(data=df, x='year', y='suicides_no', hue='sex')\n",
    "plt.title(\"Number of Suicides by Gender Based on Year\", fontweight='bold')\n",
    "plt.xticks(rotation=90)\n",
    "plt.show()"
   ]
  },
  {
   "cell_type": "markdown",
   "id": "2b9c7c35-2e42-49ab-9cec-f556973406af",
   "metadata": {},
   "source": [
    "This graph can confirm what we've already discussed (male suicides vs. female suicides)"
   ]
  },
  {
   "cell_type": "markdown",
   "id": "53e94537-1de1-4bf6-a7a8-469b9d5d6369",
   "metadata": {},
   "source": [
    "##### --- Number of Suicide by Age Based on Year---"
   ]
  },
  {
   "cell_type": "code",
   "execution_count": null,
   "id": "c7a896d7-9d33-4b6a-9e2c-f66f41031ee8",
   "metadata": {},
   "outputs": [],
   "source": [
    "# graph 1 (1985-2000)\n",
    "plt.figure(figsize=(30,10), dpi=100)\n",
    "sns.set_style('whitegrid')\n",
    "sns.barplot(data=df[df.year <=  2000], x='year', y='suicides_no', hue='age', errorbar=None)\n",
    "plt.title(\"Number of Suicides by Gender Based on Year\")\n",
    "plt.xticks(rotation=90)\n",
    "plt.show()"
   ]
  },
  {
   "cell_type": "code",
   "execution_count": null,
   "id": "d4b45643-5e52-47fc-92f4-ce8e2400035c",
   "metadata": {},
   "outputs": [],
   "source": [
    "# graph 1 (2000-2015)\n",
    "plt.figure(figsize=(35,15), dpi=100)\n",
    "sns.set_style('whitegrid')\n",
    "sns.barplot(data=df[df.year >= 2001], x='year', y='suicides_no', hue='age', errorbar=None)\n",
    "plt.title(\"Number of Suicides by Gender Based on Year\")\n",
    "plt.xticks(rotation=90)\n",
    "plt.show()"
   ]
  },
  {
   "cell_type": "markdown",
   "id": "06d2beb2-829d-4162-a15a-e83f1fe64a82",
   "metadata": {},
   "source": [
    "In spite of being a bit hard to interpret those 2 plots, the first and most significant insight we gain from this barplot is that the highest number of suicide belongs to the 35-54 year-old group (yellow bar). Why? Hmmm according to articles from [Psychology](https://www.psychologytoday.com/us/blog/understanding-grief/202001/why-do-the-elderly-commit-suicide) Today and [MedicalNewsToday](https://www.medicalnewstoday.com/articles/why-do-people-commit-suicide) the possibly primary factors can be:\n",
    "* loneliness (changes in their social networks,  loss of a spouse or friends)\n",
    "* financial issues\n",
    "* health problems\n",
    "* relation problems"
   ]
  },
  {
   "cell_type": "markdown",
   "id": "2fa125d7-8cdd-4c34-a45a-9d37217de8a7",
   "metadata": {},
   "source": [
    "### Insights of Suicide Rate (Per 100,000 People) Trend and Population between Continents"
   ]
  },
  {
   "cell_type": "code",
   "execution_count": null,
   "id": "3c1773b1-4990-4b4d-a838-da0db572bc55",
   "metadata": {},
   "outputs": [],
   "source": [
    "# create an ordered list for plotting\n",
    "cont_list = df.continent_name.sort_values().unique()\n",
    "cont_glob = np.insert(cont_list, 0, 'Global')  "
   ]
  },
  {
   "cell_type": "markdown",
   "id": "79794cdd-778f-493b-b0ff-2b605dd2cdc6",
   "metadata": {},
   "source": [
    "##### --- Mean Suicide Rates and Ratios per Continent Over Time---"
   ]
  },
  {
   "cell_type": "markdown",
   "id": "2c87b3af-0877-44a2-a5ac-470b3952894a",
   "metadata": {},
   "source": [
    "<br><br>\n",
    "$Suicide Rate Ratio = \\dfrac{MaleSuicideRates}{FemaleSuicideRates}$\n",
    "<br><br>"
   ]
  },
  {
   "cell_type": "code",
   "execution_count": null,
   "id": "a090c9fb-60b9-4af5-8f0e-714b2babc0e6",
   "metadata": {},
   "outputs": [],
   "source": [
    "for index, row in df_cont.iterrows():\n",
    "    continent = df_cont.loc[index]['continent_name']\n",
    "    df_cont.loc[index, 'male'] = df['suicides/100k_pop'][(df['continent_name']==continent) & (df['sex']=='male')].mean()\n",
    "    df_cont.loc[index, 'female'] = df['suicides/100k_pop'][(df['continent_name']==continent) & (df['sex']=='female')].mean()\n",
    "\n",
    "# add male and female ratio of suicide means\n",
    "df_cont['ratio'] = df_cont['male']/df_cont['female']\n",
    "\n",
    "#  PLOTs - suicide rates per continent AND male/female ratio\n",
    "plt.figure(figsize=(22,10), dpi=100)\n",
    "plt.subplot(121)\n",
    "ax = sns.barplot(data = df, x = 'continent_name', order = cont_list, y = 'suicides/100k_pop', hue = 'sex', errorbar=None, palette = 'ocean')\n",
    "plt.title('Male & Female Suicide Rates', fontsize=14)\n",
    "plt.xlabel(\"\")\n",
    "plt.xticks(rotation = 90)\n",
    "plt.ylim([0,30])\n",
    "plt.legend(title = \"\")\n",
    "plt.box(False)\n",
    "for p in ax.patches:\n",
    "    ax.annotate(\"%.1f\" % p.get_height(), (p.get_x() + p.get_width()/2, p.get_height()+1), ha='center', va='center')\n",
    "\n",
    "plt.subplot(122)\n",
    "ax = sns.barplot(x=df_cont['continent_name'], y=df_cont['ratio'], palette = 'winter')\n",
    "plt.title('Male vs. Female Suicide Ratio', fontsize=14)\n",
    "plt.xlabel(\"\")\n",
    "plt.xticks(rotation = 90)\n",
    "plt.ylabel('Male/Female Suicide Ratio')\n",
    "plt.ylim([1,5])\n",
    "plt.box(False)\n",
    "for p in ax.patches:\n",
    "    ax.annotate(\"%.2f\" % p.get_height(), (p.get_x() + p.get_width()/2, p.get_height()+.1), ha='center', va='center')\n",
    "    \n",
    "plt.subplots_adjust(wspace=0.4)\n",
    "plt.show()"
   ]
  },
  {
   "cell_type": "markdown",
   "id": "08e92953-ec10-4817-8203-6d8f409555b2",
   "metadata": {},
   "source": [
    "* From the right graph, __Central America, Europe and South America__ have a similar high of bar, meaning the suicide ratio between those 3 continents are not much different at all. What's more, as for those 3 continents, the percentage of male commiting suicide is dispropotionately higher than female.\n",
    "* From the left graph, __all continents__ have a high suicide rate in men than women; On the one hand, __Europe__ countries have a higher incidence of females commiting suicides than other countries\n"
   ]
  },
  {
   "cell_type": "markdown",
   "id": "7a2324e1-9d47-44f8-b956-602d4336736e",
   "metadata": {},
   "source": [
    "##### --- Mean Suicide Rates per Continent Over Time ---"
   ]
  },
  {
   "cell_type": "code",
   "execution_count": null,
   "id": "4d561990-0e18-4d5e-8d1d-6f164965244d",
   "metadata": {},
   "outputs": [],
   "source": [
    "sns.set_style('white')"
   ]
  },
  {
   "cell_type": "code",
   "execution_count": null,
   "id": "93cf8a9c-ae07-455b-bb46-6da38b2ccc10",
   "metadata": {},
   "outputs": [],
   "source": [
    "plt.figure(figsize=(18,30))\n",
    "#plt.title(\"Suicide Rates & Population\")\n",
    "a = 4   # subplot rows\n",
    "b = 2   # subplot columns\n",
    "c = 1   # subplot counter\n",
    "\n",
    "for i in cont_glob:\n",
    "    \n",
    "    if i == 'Global':\n",
    "        dfx = df   # GLOBAL PLOT\n",
    "    else:\n",
    "        dfx = df[df['continent_name'] == i]\n",
    "\n",
    "    #  subplots        \n",
    "    plt.subplot(a,b,c)\n",
    "    tw1 = sns.lineplot(data = dfx, x='year', y='population', errorbar = None, hue = 'sex', palette = 'hsv')\n",
    "    #plt.legend(bbox_to_anchor =(1.4, 1), loc='upper right', frameon=False)\n",
    "    tw2 = tw1.twinx()\n",
    "    tw2 = sns.lineplot(data = dfx, x='year', y='suicides/100k_pop', color ='grey', errorbar = None, style = True, dashes = [(2,2)])\n",
    "    plt.legend('',frameon=False)\n",
    "    plt.title(f'{i.upper()}', fontweight='bold')\n",
    "    plt.xlim(1985, 2015) \n",
    "    c = c + 1\n",
    "plt.tight_layout()\n",
    "plt.subplots_adjust(wspace=0.4)\n",
    "plt.show()"
   ]
  },
  {
   "cell_type": "markdown",
   "id": "7ecbdee2-7677-49dc-8889-d2e70e6aa041",
   "metadata": {},
   "source": [
    " * __Globally__, the overall suicide trend has been sharply declining since 1995, while the population has been increasing significantly in recent years.\n",
    " * __Africa__ saw a sharp increase in suicides in 2005-2006. Moreover, suicide rates have fluctuated in recent years.\n",
    " * __Asia__ is seeing an uptick in suicides in recent years despite, in general, a downward trend of suicide rates throughout the period.\n",
    " * __Central America and Europe__ have an alike trend in population, seeing a fluctuation. The suicide rates in both continents has also decreased in the last few years.\n",
    " * __South America__ has an amazingly increasing trend in population; nevertheless, the upward trend also belongs to the suicide rate between 1985 and 2010, yet the rate slumped repidly afterwards."
   ]
  },
  {
   "cell_type": "markdown",
   "id": "e51b315e-e361-443e-a982-60483c391e2f",
   "metadata": {},
   "source": [
    "### Insights of Suicide Rate (Per 100,000 People) Trend and Age Group between Gender in all Continents"
   ]
  },
  {
   "cell_type": "code",
   "execution_count": null,
   "id": "8102ee25-8ab5-4d3c-928b-1841ff110fd1",
   "metadata": {},
   "outputs": [],
   "source": [
    "age_list = ['5-14 years', '15-24 years', '25-34 years', '35-54 years',  '55-74 years', '75+ years']"
   ]
  },
  {
   "cell_type": "code",
   "execution_count": null,
   "id": "4d77aef5-c9ec-4ff3-9d6f-0a234fe3b746",
   "metadata": {},
   "outputs": [],
   "source": [
    "#  plot Suicide Rates & Age Group over Time\n",
    "plt.figure(figsize=(20,50))\n",
    "a = 8   # subplot rows\n",
    "b = 2   # subplot columns\n",
    "c = 1   # subplot counter\n",
    "\n",
    "for i in cont_glob:\n",
    "    \n",
    "    if i == 'Global':\n",
    "        dfx = df   \n",
    "    else:\n",
    "        dfx = df[df['continent_name'] == i]\n",
    "\n",
    "    #  subplot 1 - male  \n",
    "    plt.subplot(a,b,c)  # male\n",
    "    tw1 = sns.lineplot(data = dfx[dfx['sex'] == 'male'], x='year',    y='suicides/100k_pop', hue='age', hue_order = age_list, errorbar = None)\n",
    "    plt.title(f'{i.upper()}:  Suicide Rates & Age (MALE)', fontweight='bold')\n",
    "    plt.legend('',frameon=False)\n",
    "    plt.xlim([1985,2015])\n",
    "    \n",
    "    tw2 = tw1.twinx()\n",
    "    tw2 = sns.lineplot(data = dfx[dfx['sex'] == 'male'], x='year',  y='suicides/100k_pop', color ='grey', errorbar = None, style = True, dashes = [(2,2)])\n",
    "    plt.legend('',frameon=False)\n",
    "    plt.xlim([1985,2015])\n",
    "    plt.ylabel(\"\")\n",
    "    c = c + 1\n",
    "    \n",
    "    #  subplot 2 - female\n",
    "    plt.subplot(a,b,c)  # female\n",
    "    tw1 = sns.lineplot(data = dfx[dfx['sex'] == 'female'], x='year',  y='suicides/100k_pop', hue='age', hue_order = age_list, errorbar = None)\n",
    "    plt.legend(bbox_to_anchor =(1.4, 1), loc='upper right', frameon=False)\n",
    "    plt.xlim([1985,2015])\n",
    "    plt.ylabel(\"\")\n",
    "    \n",
    "    tw2 = tw1.twinx()\n",
    "    tw2 = sns.lineplot(data = dfx[dfx['sex'] == 'female'], x='year',    y='suicides/100k_pop', color ='grey', errorbar = None, style = True, dashes = [(2,2)])\n",
    "    plt.title(f'{i.upper()}:  Suicide Rates & Age (FEMALE)', fontweight='bold')\n",
    "    plt.legend('',frameon=False)\n",
    "    plt.xlim([1985,2015])\n",
    "    plt.ylabel(\"\")\n",
    "    c = c + 1\n",
    "\n",
    "plt.tight_layout()\n",
    "plt.show()"
   ]
  },
  {
   "cell_type": "markdown",
   "id": "cd6ad207-be0c-42fb-8b42-d0f98464989b",
   "metadata": {},
   "source": [
    "* __Global__: As for both genders, after the spike in suicide rates in __1995__, the rate globally has a steady decline for all age groups.\n",
    "* __Asia__: The trend of suicide rates has steadily declined in both genders; except that the trend for males over 75 years old has had a slight increase.\n",
    "* __North America__: The trend of suicide rate for males over 75 years old reached a peak in 1995 and then steadily declined; on the contrary, the rate for women at the same age group experienced the similar trend but instead peaked in 2000 before a decrease in the rate."
   ]
  },
  {
   "cell_type": "markdown",
   "id": "f3910fc1-3f69-4309-9291-78aa4b198f62",
   "metadata": {},
   "source": [
    "### Suicide Rate Trends and Human Development Index (HDI)"
   ]
  },
  {
   "cell_type": "markdown",
   "id": "b99af07e-2a3f-4ebc-9104-31f511cbd7d8",
   "metadata": {},
   "source": [
    "##### --- Suicide Rate and HDI Trend for All Continents Over Time ---"
   ]
  },
  {
   "cell_type": "code",
   "execution_count": null,
   "id": "5944d22b-0f75-44d8-bc2c-02db3853d48e",
   "metadata": {},
   "outputs": [],
   "source": [
    "#  plot Suicide Rates & HDI over Time\n",
    "plt.figure(figsize=(15,22), dpi=100)\n",
    "a = 4   # subplot rows\n",
    "b = 2   # subplot columns\n",
    "c = 1   # subplot counter\n",
    "\n",
    "for i in cont_glob:\n",
    "    \n",
    "    if i == 'Global':\n",
    "        dfx = df   \n",
    "    else:\n",
    "        dfx = df[df['continent_name'] == i]\n",
    "\n",
    "    #  subplots        \n",
    "    plt.subplot(a,b,c)\n",
    "    tw1 = sns.lineplot(data = dfx, x='year', y='hdi')\n",
    "    \n",
    "    tw2 = tw1.twinx()\n",
    "    tw2 = sns.lineplot(data = dfx, x='year', y='suicides/100k_pop', color ='grey', errorbar = None, style = True, dashes = [(2,2)])\n",
    "    tw2 = plt.legend('',frameon=False)\n",
    "    tw2 = plt.xlim([1985,2015])\n",
    "    plt.title(f'{i.upper()} :  Suicide Rates & HDI', fontweight='bold')\n",
    "    plt.grid()\n",
    "    c = c + 1\n",
    "\n",
    "plt.tight_layout()\n",
    "plt.show()"
   ]
  },
  {
   "cell_type": "markdown",
   "id": "9709085e-574e-42fd-8a22-1287843d7258",
   "metadata": {},
   "source": [
    "* Overall, HDI has increased while the suicide rate has had a steadily downward trend, showing an inverse relationship between HDI and suicide rate.\n",
    "* However, it is important to note the improvement in HDI might not immediately have an effect on the suicide rate, meaning the decline in suicide rate may need some time to occur. By taking South America as an example, we can see an obvious surge in HDI since 1994, yet the suicide rate did not show a clear decrease until 2013, which took around 18 years before the rate went down."
   ]
  },
  {
   "cell_type": "markdown",
   "id": "4ea77c2b-acd6-49f2-81c7-642ed8467a2d",
   "metadata": {},
   "source": [
    "### Suicide Trends and Gross Domestic Product per Capita (GDPc)"
   ]
  },
  {
   "cell_type": "markdown",
   "id": "3bfdc5a9-0131-4f36-8657-38154376f302",
   "metadata": {},
   "source": [
    "##### --- GDPc for All Continents Over Time ---"
   ]
  },
  {
   "cell_type": "code",
   "execution_count": null,
   "id": "241f35d9-3d3b-40e4-9499-d512325b1669",
   "metadata": {},
   "outputs": [],
   "source": [
    "plt.figure(figsize=(15,22), dpi=100)\n",
    "a = 4   # subplot rows\n",
    "b = 2   # subplot columns\n",
    "c = 1   # subplot counter\n",
    "\n",
    "for i in cont_glob:\n",
    "    \n",
    "    if i == 'Global':\n",
    "        dfx = df   # GLOBAL PLOT\n",
    "    else:\n",
    "        dfx = df[df['continent_name'] == i]\n",
    "\n",
    "    #  subplots        \n",
    "    plt.subplot(a,b,c)\n",
    "    tw1 = sns.lineplot(data = dfx, x='year', y='gdp_per_capita')\n",
    "    \n",
    "    tw2 = tw1.twinx()\n",
    "    tw2 = sns.lineplot(data = dfx, x='year', y='suicides/100k_pop', color ='grey', errorbar = None, style = True, dashes = [(2,2)])\n",
    "    tw2 = plt.legend('',frameon=False)\n",
    "    tw2 = plt.xlim([1985,2015])\n",
    "    plt.title(f'{i.upper()}:  Suicide Rates & GDP')\n",
    "    plt.grid()\n",
    "    c = c + 1\n",
    "\n",
    "plt.tight_layout()\n",
    "plt.show()"
   ]
  },
  {
   "cell_type": "markdown",
   "id": "7ec652de-90e2-4666-827c-d012e03475d9",
   "metadata": {},
   "source": [
    "* __Gross Domestic Product per Capita (GDPc)__: Overall GDP has increased and the suicide rate has steadily gone down, showing an inverse relationship between GDP and suicide rates.\n",
    "* According to a [study](https://bmjopen.bmj.com/content/bmjopen/2/3/e000785.full.pdf) by Blasco-Fontecilla et al. (2012), a rise in an economic development can result in an adoption of “the implementation of national mental health policies and infrastructures” or “universal healthcare”, which can be linked a reduction in suicide rate"
   ]
  },
  {
   "cell_type": "markdown",
   "id": "c1c80a92-2a43-4ba4-b55d-5c0346bbc911",
   "metadata": {},
   "source": [
    "### Correlations"
   ]
  },
  {
   "cell_type": "markdown",
   "id": "347b6524-f236-468f-a371-cc264e12d940",
   "metadata": {},
   "source": [
    "Two important steps before performing correlation:\n",
    "1. Encoding categorical attributes with numerical values\n",
    "2. Normalization of the data"
   ]
  },
  {
   "cell_type": "code",
   "execution_count": null,
   "id": "698e25be-72d8-41e1-991b-b6095f951102",
   "metadata": {},
   "outputs": [],
   "source": [
    "df_copy = df.copy()"
   ]
  },
  {
   "cell_type": "markdown",
   "id": "1a90e29d-e637-404b-acd7-67768ee04fd4",
   "metadata": {},
   "source": [
    "##### --- Step 1 ---"
   ]
  },
  {
   "cell_type": "code",
   "execution_count": null,
   "id": "3b5c9829-96d3-4e41-adab-d955874d853f",
   "metadata": {},
   "outputs": [],
   "source": [
    "df_corr = df_copy[['suicides/100k_pop', 'sex', 'age', 'population', 'hdi', 'gdp_per_capita', 'gdp_for_year', 'generation', 'continent_name']]\n",
    "\n",
    "df_corr.loc[:, 'sex'] = df_corr['sex'].replace({'female': 0, 'male': 1})\n",
    "df_corr.loc[:, 'age'] = df_corr['age'].replace({'5-14 years': 0, '15-24 years': 1, '25-34 years': 2, '35-54 years': 3, '55-74 years': 4, '75+ years': 5})\n",
    "df_corr.loc[:, 'generation'] = df_corr['generation'].replace({'Generation Z': 0, 'Millenials': 1, 'Generation X': 2, 'Boomers': 3, 'Silent': 4, 'G.I. Generation': 5})\n",
    "df_corr.loc[:, 'continent_name'] = df_corr['continent_name'].replace({'Africa': 0, 'Asia': 1, 'Australia': 2, 'Central America': 3, 'Europe': 4, 'North America': 5, 'South America': 6})\n",
    "\n",
    "df_corr.info()"
   ]
  },
  {
   "cell_type": "code",
   "execution_count": null,
   "id": "f0744694-2e2e-4924-9220-a4530e19880b",
   "metadata": {},
   "outputs": [],
   "source": [
    "df_corr.loc[:,'gdp_for_year'] = df_corr['gdp_for_year'].str.replace(',', '')"
   ]
  },
  {
   "cell_type": "code",
   "execution_count": null,
   "id": "528b6f69-b916-4ee8-9f45-c99d94195fea",
   "metadata": {},
   "outputs": [],
   "source": [
    "df_corr = df_corr.astype({\n",
    "    'sex':'int64',\n",
    "    'age':'int64',\n",
    "    'gdp_for_year':'int64',\n",
    "    'generation':'int64',\n",
    "    'continent_name':'int64'\n",
    "})"
   ]
  },
  {
   "cell_type": "code",
   "execution_count": null,
   "id": "cc33d06e-b0fd-4f55-970d-fa66dd363354",
   "metadata": {},
   "outputs": [],
   "source": [
    "df_corr.head()"
   ]
  },
  {
   "cell_type": "markdown",
   "id": "03d8a359-9cf5-4027-8c7a-349bdb669d5e",
   "metadata": {},
   "source": [
    "##### --- Step 2 ---"
   ]
  },
  {
   "cell_type": "markdown",
   "id": "e0c735c0-8f3d-4719-aeb6-df41e3990a98",
   "metadata": {},
   "source": [
    "Performing a correlation on normalized data can lead a better result."
   ]
  },
  {
   "cell_type": "code",
   "execution_count": null,
   "id": "a58749bd-d786-4520-82cc-cc3538d29e78",
   "metadata": {},
   "outputs": [],
   "source": [
    "from sklearn.preprocessing import MinMaxScaler"
   ]
  },
  {
   "cell_type": "code",
   "execution_count": null,
   "id": "078c2074-6b85-4be0-9405-ed1e65eb12de",
   "metadata": {},
   "outputs": [],
   "source": [
    "df_norm = MinMaxScaler().fit_transform(df_corr)\n",
    "df_corr = pd.DataFrame(df_norm, index = df_corr.index, columns = df_corr.columns)"
   ]
  },
  {
   "cell_type": "markdown",
   "id": "49d89a1d-d2a8-458f-9071-801b7c50b8b1",
   "metadata": {},
   "source": [
    "##### --- Overall Correlation ---"
   ]
  },
  {
   "cell_type": "code",
   "execution_count": null,
   "id": "3df0f2c0-68a5-4a9b-aca9-027d9c0da6c1",
   "metadata": {},
   "outputs": [],
   "source": [
    "dataCorr = df_corr.corr()\n",
    "\n",
    "dataCorr['suicides/100k_pop'].sort_values(ascending=False)\n",
    "\n",
    "mask = np.triu(np.ones_like(dataCorr, dtype=bool))\n",
    "\n",
    "plt.figure(figsize=(11,11))\n",
    "plt.title('Suicide Correlation')\n",
    "sns.heatmap(dataCorr, annot=True, fmt='.2f', square=True, cmap = 'YlGnBu', mask=mask)\n",
    "plt.show()"
   ]
  },
  {
   "cell_type": "markdown",
   "id": "e427a771-b867-453d-bc15-f7501fa3f414",
   "metadata": {},
   "source": [
    "* Age, generation and sex are significant factors in determining suicide rates\n",
    "* HDI is moderately correlated with GDPc"
   ]
  },
  {
   "cell_type": "markdown",
   "id": "85a09cb6-8368-4a8f-9ad9-0c8134001cc7",
   "metadata": {},
   "source": [
    "##### --- Correlation - Male & Female ---"
   ]
  },
  {
   "cell_type": "code",
   "execution_count": null,
   "id": "dbf17473-8b03-47b2-998d-a4d2d0b64275",
   "metadata": {},
   "outputs": [],
   "source": [
    "#  Correlation MALE - filter dataframe for male/female\n",
    "df_male   = df_corr[(df_corr['sex'] == 1)]             \n",
    "df_maleCorr = df_male.drop([\"sex\"], axis=1).corr()\n",
    "mask1 = np.triu(np.ones_like(df_maleCorr, dtype=bool))\n",
    "\n",
    "#  Correlation FEMALE - filter dataframe for male/female\n",
    "df_female = df_corr[(df_corr['sex'] == 0)]              \n",
    "df_femaleCorr = df_female.drop([\"sex\"], axis=1).corr()\n",
    "mask2 = np.triu(np.ones_like(df_femaleCorr, dtype=bool))\n"
   ]
  },
  {
   "cell_type": "code",
   "execution_count": null,
   "id": "a3bf1f3b-750c-414c-986c-34cdd31d6e62",
   "metadata": {},
   "outputs": [],
   "source": [
    "fig = plt.figure(figsize=(26,14))\n",
    "\n",
    "fig.add_subplot(121)\n",
    "plt.title('Suicide Correlation - MALE', fontsize=16, fontweight='bold')\n",
    "sns.heatmap(df_maleCorr, annot=True, fmt='.2f', square=True, cmap = 'Blues_r', mask=mask1)\n",
    "\n",
    "fig.add_subplot(122)\n",
    "plt.title('Suicide Correlation - FEMALE ', fontsize=16, fontweight='bold')\n",
    "sns.heatmap(df_femaleCorr, annot=True, fmt='.2f', square=True, cmap = 'BuPu', mask=mask2)\n",
    "plt.show()"
   ]
  },
  {
   "cell_type": "markdown",
   "id": "a407dc7a-2c74-4dfb-8e55-08b4b690fba3",
   "metadata": {},
   "source": [
    "* In both genders, generation and age are significant factors in determining suicide rates.\n",
    "* We can see a strongly positive correlation between HDI and GDPc in both males and females.\n",
    "* Again, as mentioned above, it is interesting to note that there is a positive relationship between HDI and suicide rates despite being relatively low."
   ]
  },
  {
   "cell_type": "markdown",
   "id": "34c617df-cc02-4895-9c69-04f42b6320ad",
   "metadata": {},
   "source": [
    "## Predictive Procedure"
   ]
  },
  {
   "cell_type": "markdown",
   "id": "5c97e91a-1115-43f7-8015-e83798a87c14",
   "metadata": {},
   "source": [
    "### Cluster Analysis"
   ]
  },
  {
   "cell_type": "markdown",
   "id": "0d73a590-bcdd-4ce3-aec2-68c7352a9761",
   "metadata": {},
   "source": [
    "The task is to find out how many intrinsic groups in terms of suicide rates?"
   ]
  },
  {
   "cell_type": "code",
   "execution_count": null,
   "id": "abc6b2a7-278a-4a4a-8709-1826e82d504f",
   "metadata": {},
   "outputs": [],
   "source": [
    "# cluster_data = df.copy()\n",
    "#cluster_data.to_csv(\"clusterData.csv\", index=False)"
   ]
  },
  {
   "cell_type": "code",
   "execution_count": null,
   "id": "c24187e0-80d6-494f-9a78-3f5f5a0751ed",
   "metadata": {},
   "outputs": [],
   "source": [
    "# # prepare data\n",
    "# cluster_data[[\"country\",\"age\",\"sex\",\"generation\", \"continent_name\"]] = cluster_data[[\"country\",\"age\",\"sex\",\"generation\", \"continent_name\"]].astype(\"category\")\n",
    "# cluster_data['gdp_for_year'] = cluster_data['gdp_for_year'].str.replace(',', '').astype(\"int64\")\n",
    "\n",
    "# columns = cluster_data.select_dtypes('category').columns\n",
    "\n",
    "# cluster_data[columns] = cluster_data[columns].apply(lambda fx: fx.cat.codes)"
   ]
  },
  {
   "cell_type": "code",
   "execution_count": null,
   "id": "0bc18f63-3b73-4427-917f-cd24ebfd9c86",
   "metadata": {},
   "outputs": [],
   "source": [
    "cluster_data.info()"
   ]
  },
  {
   "cell_type": "markdown",
   "id": "baa7ee79-5b7a-48ea-b2a0-293ce9c6ab13",
   "metadata": {},
   "source": [
    "### Predictive Modeling"
   ]
  },
  {
   "cell_type": "code",
   "execution_count": null,
   "id": "50e77264-dac4-49b2-b9bb-2be90c86003f",
   "metadata": {
    "tags": []
   },
   "outputs": [],
   "source": [
    "import sklearn"
   ]
  },
  {
   "cell_type": "code",
   "execution_count": null,
   "id": "0689537e-7380-4348-8423-f47886b4e439",
   "metadata": {
    "tags": []
   },
   "outputs": [],
   "source": [
    "data = df.copy()"
   ]
  },
  {
   "cell_type": "markdown",
   "id": "3a62a88c-036b-4a55-af66-346610b43469",
   "metadata": {},
   "source": [
    "##### --- Data Preprocessing ---"
   ]
  },
  {
   "cell_type": "code",
   "execution_count": null,
   "id": "c991d878-311b-407d-8062-8e3c2b98ac46",
   "metadata": {
    "tags": []
   },
   "outputs": [],
   "source": [
    "#drop unneeded columns\n",
    "data.drop(columns=['capital_lattitude', 'capital_longitude', 'continent_name'], inplace=True)"
   ]
  },
  {
   "cell_type": "code",
   "execution_count": null,
   "id": "616fbd80-5f02-4626-a971-a6117aeaefad",
   "metadata": {},
   "outputs": [],
   "source": [
    "from sklearn.preprocessing import LabelEncoder\n",
    "\n",
    "categorical = ['country', 'year', 'age', 'sex', 'generation']\n",
    "label_encoders = {}\n",
    "\n",
    "for col in categorical:\n",
    "    le = LabelEncoder()\n",
    "    le.fit(data[col])\n",
    "    label_encoders[col] = le\n",
    "    data[col] = le.transform(data[col])\n",
    "    \n",
    "# save the label encoder\n",
    "joblib.dump(label_encoders, './models/label_encoder.joblib')"
   ]
  },
  {
   "cell_type": "markdown",
   "id": "f1ee4ff2-844b-4e59-b6b3-39641cb02bc3",
   "metadata": {},
   "source": [
    "##### --- Splitting the Data ---"
   ]
  },
  {
   "cell_type": "code",
   "execution_count": null,
   "id": "715cc10e-679e-437c-930c-060c71debfea",
   "metadata": {},
   "outputs": [],
   "source": [
    "#data.info()"
   ]
  },
  {
   "cell_type": "code",
   "execution_count": null,
   "id": "c9731bb2-1a00-4044-b170-76b949a42166",
   "metadata": {},
   "outputs": [],
   "source": [
    "data['gdp_for_year'] = data['gdp_for_year'].str.replace(',','').astype(float)"
   ]
  },
  {
   "cell_type": "code",
   "execution_count": null,
   "id": "bbb76424-7491-43f8-982f-beb38301e19f",
   "metadata": {},
   "outputs": [],
   "source": [
    "y = data['suicides/100k_pop']\n",
    "X = data.drop('suicides/100k_pop', axis=1)"
   ]
  },
  {
   "cell_type": "code",
   "execution_count": null,
   "id": "040856d6-a77a-47ac-86a1-2267ea9e0415",
   "metadata": {},
   "outputs": [],
   "source": [
    "from sklearn.model_selection import train_test_split\n",
    "\n",
    "X_train, X_test, y_train, y_test = train_test_split(X, y, test_size = 0.2, random_state = 42)"
   ]
  },
  {
   "cell_type": "code",
   "execution_count": null,
   "id": "094997a6-53b0-4f54-b7a6-1dfb4877c703",
   "metadata": {},
   "outputs": [],
   "source": [
    "numerical_features = ['suicides_no', 'population', 'gdp_for_year', 'gdp_per_capita']"
   ]
  },
  {
   "cell_type": "code",
   "execution_count": null,
   "id": "e3feceb1-bd5e-4a48-ab62-68194274cb58",
   "metadata": {},
   "outputs": [],
   "source": [
    "# scaling numerical data\n",
    "from sklearn.preprocessing import RobustScaler\n",
    "\n",
    "X_scaler = RobustScaler()\n",
    "X_train[numerical_features] = X_scaler.fit_transform(X_train[numerical_features])\n",
    "X_test[numerical_features] = X_scaler.transform(X_test[numerical_features])\n",
    "\n",
    "# save the numerical features model\n",
    "joblib.dump(X_scaler, './models/num_features_scaler.joblib')\n",
    "\n",
    "y_scaler = RobustScaler()\n",
    "y_train = y_scaler.fit_transform(y_train)\n",
    "y_test = y_scaler.transform(y_test)\n",
    "\n",
    "# save the numerical features model\n",
    "joblib.dump(y_scaler, './models/target_scaler.joblib')"
   ]
  },
  {
   "cell_type": "code",
   "execution_count": null,
   "id": "db017503-0241-41e8-9527-6e83f0e83a39",
   "metadata": {},
   "outputs": [],
   "source": [
    "# data"
   ]
  },
  {
   "cell_type": "markdown",
   "id": "820e9bfe-f3fd-40de-964b-7c15fcd30914",
   "metadata": {},
   "source": [
    "##### --- Model Building & Training ---"
   ]
  },
  {
   "cell_type": "markdown",
   "id": "7aa9efcd-2793-4bbf-9f24-92639f736c75",
   "metadata": {},
   "source": [
    "Since the dataset comes under regression problem (i.e. the prediction of suicide rate is a continuous number), we decided to implement the machine learning algorithm for regression lised below:\n",
    "* k-Nearest Neighbors Regression\n",
    "* Linear Regression\n",
    "* Decision Tree\n",
    "* Random Forest\n",
    "* Multilayer Perceptrons (Neural Network)\n",
    "* XGBoost"
   ]
  },
  {
   "cell_type": "markdown",
   "id": "001bbeca-d82b-4dd4-a189-125618744d8d",
   "metadata": {},
   "source": [
    "Also, the metrics considered and applied to evaluate the model performance are \n",
    "* Accuracy \n",
    "* Root Mean Squared Error (RMSE)"
   ]
  },
  {
   "cell_type": "code",
   "execution_count": null,
   "id": "15707898-fd71-4b26-a293-6e09e07226ab",
   "metadata": {},
   "outputs": [],
   "source": [
    "from sklearn.metrics import mean_squared_error\n",
    "from sklearn.model_selection import GridSearchCV"
   ]
  },
  {
   "cell_type": "code",
   "execution_count": null,
   "id": "323234b3-d780-4111-b1fd-38dd51167aad",
   "metadata": {},
   "outputs": [],
   "source": [
    "ML_Model = []\n",
    "acc_train = []\n",
    "acc_test = []\n",
    "rmse_train = []\n",
    "rmse_test = []\n",
    "\n",
    "def storeResults(model, a,b,c,d):\n",
    "    ML_Model.append(model)\n",
    "    acc_train.append(round(a, 3))\n",
    "    acc_test.append(round(b, 3))\n",
    "    rmse_train.append(round(c, 3))\n",
    "    rmse_test.append(round(d, 3))"
   ]
  },
  {
   "cell_type": "markdown",
   "id": "d7b9ceaf-3150-4864-adee-1bbc4e5c312e",
   "metadata": {},
   "source": [
    "* __k-Nearest Neghbors Regression__"
   ]
  },
  {
   "cell_type": "code",
   "execution_count": null,
   "id": "33184fe4-4b96-435b-892e-f955b75a0820",
   "metadata": {},
   "outputs": [],
   "source": [
    "from sklearn.neighbors import KNeighborsRegressor\n",
    "\n",
    "knn = KNeighborsRegressor()\n",
    "\n",
    "param_grid = {'n_neighbors':list(range(1, 31)), 'weights': ['uniform', 'distance']}\n",
    "\n",
    "knn_grid = GridSearchCV(knn, param_grid, cv=10)\n",
    "\n",
    "knn_grid.fit(X_train, y_train)"
   ]
  },
  {
   "cell_type": "code",
   "execution_count": null,
   "id": "652820ac-f4ca-4935-9912-e1e8adc5540a",
   "metadata": {},
   "outputs": [],
   "source": [
    "knn_para = knn_grid.best_params_\n",
    "print(knn_para)"
   ]
  },
  {
   "cell_type": "code",
   "execution_count": null,
   "id": "ad8e6a7e-5eac-4436-ab50-e31162a65387",
   "metadata": {},
   "outputs": [],
   "source": [
    "y_train_knn = knn_grid.predict(X_train)\n",
    "y_test_knn = knn_grid.predict(X_test)"
   ]
  },
  {
   "cell_type": "code",
   "execution_count": null,
   "id": "100e4121-f05d-4777-9359-fdea6f02738f",
   "metadata": {},
   "outputs": [],
   "source": [
    "acc_train_knn = knn_grid.score(X_train, y_train) \n",
    "acc_test_knn = knn_grid.score(X_test, y_test)\n",
    "\n",
    "rmse_train_knn = np.sqrt(mean_squared_error(y_train, y_train_knn))\n",
    "rmse_test_knn = np.sqrt(mean_squared_error(y_test, y_test_knn))"
   ]
  },
  {
   "cell_type": "code",
   "execution_count": null,
   "id": "3edbb2dd-fa01-4dd2-a6a6-cfe9e3dd7d6b",
   "metadata": {},
   "outputs": [],
   "source": [
    "storeResults('k-Nearest Neighbors Regression', acc_train_knn, acc_test_knn, rmse_train_knn, rmse_test_knn)"
   ]
  },
  {
   "cell_type": "markdown",
   "id": "dd383ba5-75aa-4c79-b696-763f4b7c35ac",
   "metadata": {},
   "source": [
    "* __Linear Regression__"
   ]
  },
  {
   "cell_type": "code",
   "execution_count": null,
   "id": "1c8f001a-7e5c-4985-9b20-66ee7fba5e32",
   "metadata": {},
   "outputs": [],
   "source": [
    "from sklearn.linear_model import LinearRegression\n",
    "\n",
    "lr = LinearRegression()\n",
    "\n",
    "\n",
    "lr.fit(X_train, y_train)"
   ]
  },
  {
   "cell_type": "code",
   "execution_count": null,
   "id": "98da8549-18a2-42b6-a180-bb80264ea8a4",
   "metadata": {},
   "outputs": [],
   "source": [
    "param_grid = {\n",
    "    'alpha': [0.1, 1.0, 10.0],\n",
    "    'fit_intercept': [True, False],\n",
    "    'normalize': [True, False]\n",
    "}"
   ]
  },
  {
   "cell_type": "code",
   "execution_count": null,
   "id": "1289396b-dc69-473e-9082-562bac813806",
   "metadata": {},
   "outputs": [],
   "source": [
    "y_test_lr = lr.predict(X_test)\n",
    "y_train_lr = lr.predict(X_train)"
   ]
  },
  {
   "cell_type": "code",
   "execution_count": null,
   "id": "61e12a70-0615-4d5d-a13e-b549adb2977a",
   "metadata": {},
   "outputs": [],
   "source": [
    "acc_train_lr = lr.score(X_train, y_train)\n",
    "acc_test_lr = lr.score(X_test, y_test)\n",
    "\n",
    "rmse_train_lr = np.sqrt(mean_squared_error(y_train, y_train_lr))\n",
    "rmse_test_lr = np.sqrt(mean_squared_error(y_test, y_test_lr))"
   ]
  },
  {
   "cell_type": "code",
   "execution_count": null,
   "id": "d64b7bf1-395b-4e3d-8192-f0a758239b2d",
   "metadata": {
    "tags": []
   },
   "outputs": [],
   "source": [
    "print(acc_train_lr, acc_test_lr)"
   ]
  },
  {
   "cell_type": "code",
   "execution_count": null,
   "id": "603d559a-680e-4808-a71b-dd801c6af95f",
   "metadata": {},
   "outputs": [],
   "source": [
    "storeResults('Linear Regression', acc_train_lr, acc_test_lr, rmse_train_lr, rmse_test_lr)"
   ]
  },
  {
   "cell_type": "markdown",
   "id": "54b83b3d-69f7-46c6-990f-d790546ea08c",
   "metadata": {},
   "source": [
    "* __Polynomial Regression__"
   ]
  },
  {
   "cell_type": "code",
   "execution_count": null,
   "id": "cc8f7ff1-9a0f-43a0-805f-2c37a821594f",
   "metadata": {},
   "outputs": [],
   "source": [
    "from sklearn.preprocessing import PolynomialFeatures\n",
    "from sklearn.pipeline import Pipeline\n",
    "\n",
    "pipeline = Pipeline([\n",
    "    ('poly', PolynomialFeatures()),\n",
    "    ('lr', LinearRegression())\n",
    "])\n",
    "\n",
    "params = {\n",
    "    'poly__degree': [1, 2, 3, 4, 5],\n",
    "    'lr__fit_intercept':[True, False]\n",
    "}"
   ]
  },
  {
   "cell_type": "code",
   "execution_count": null,
   "id": "e273c2f9-ffbf-4bfc-92f4-8e19da507c1b",
   "metadata": {},
   "outputs": [],
   "source": [
    "poly_grid = GridSearchCV(pipeline, params, cv=5, n_jobs=-1)\n",
    "poly_grid.fit(X_train, y_train)"
   ]
  },
  {
   "cell_type": "code",
   "execution_count": null,
   "id": "6cb1ea5c-8f9c-4228-afd1-29c426d5f948",
   "metadata": {},
   "outputs": [],
   "source": [
    "print(\"Best hyperparameters: \", poly_grid.best_params_)\n",
    "print(\"Best score: \", poly_grid.best_score_)"
   ]
  },
  {
   "cell_type": "code",
   "execution_count": null,
   "id": "2f131807-955e-451a-a426-073a5c9ac36e",
   "metadata": {},
   "outputs": [],
   "source": [
    "y_test_poly = poly_grid.predict(X_test)\n",
    "y_train_poly = poly_grid.predict(X_train)"
   ]
  },
  {
   "cell_type": "code",
   "execution_count": null,
   "id": "95409be7-fc63-44b3-b6d6-dc9b2f7923da",
   "metadata": {},
   "outputs": [],
   "source": [
    "acc_train_poly = poly_grid.score(X_train, y_train) \n",
    "acc_test_poly = poly_grid.score(X_test, y_test)\n",
    "\n",
    "rmse_train_poly = np.sqrt(mean_squared_error(y_train, y_train_poly))\n",
    "rmse_test_poly = np.sqrt(mean_squared_error(y_test, y_test_poly))"
   ]
  },
  {
   "cell_type": "code",
   "execution_count": null,
   "id": "606b036a-b270-446a-bdf7-f9b208aaedf6",
   "metadata": {},
   "outputs": [],
   "source": [
    "storeResults('Polynomial Regression', acc_train_poly, acc_test_poly, rmse_train_poly, rmse_test_poly)"
   ]
  },
  {
   "cell_type": "markdown",
   "id": "62d166ca-341b-426d-b3dd-68ae0ee106b2",
   "metadata": {},
   "source": [
    "* __Decision Tree__"
   ]
  },
  {
   "cell_type": "code",
   "execution_count": null,
   "id": "630a4d61-082c-4830-93ee-a296284325e6",
   "metadata": {},
   "outputs": [],
   "source": [
    "from sklearn.tree import DecisionTreeRegressor"
   ]
  },
  {
   "cell_type": "code",
   "execution_count": null,
   "id": "3062641d-0995-4927-b00b-47f067866e39",
   "metadata": {
    "tags": []
   },
   "outputs": [],
   "source": [
    "training_accuracy = []\n",
    "test_accuracy = []\n",
    "\n",
    "depth = range(1, 31)\n",
    "for n in depth:\n",
    "    \n",
    "    tree = DecisionTreeRegressor(max_depth=n)\n",
    "    tree.fit(X_train, y_train)\n",
    "    \n",
    "    training_accuracy.append(tree.score(X_train, y_train))\n",
    "    \n",
    "    test_accuracy.append(tree.score(X_test, y_test))\n",
    "\n",
    "#plotting the training & testing accuracy for max_depth from 1 to 30\n",
    "plt.plot(depth, training_accuracy, label=\"training accuracy\")\n",
    "plt.plot(depth, test_accuracy, label=\"test accuracy\")\n",
    "plt.ylabel(\"Accuracy\")  \n",
    "plt.xlabel(\"max_depth\")\n",
    "plt.legend()"
   ]
  },
  {
   "cell_type": "markdown",
   "id": "15ec92fc-5fea-44ff-a19a-f06d86aeff5d",
   "metadata": {},
   "source": [
    "The model clearly overfits when max_depth is over roughly 9"
   ]
  },
  {
   "cell_type": "code",
   "execution_count": null,
   "id": "801d972a-99d1-4569-bafe-5e79af2b327a",
   "metadata": {
    "tags": []
   },
   "outputs": [],
   "source": [
    "tree = DecisionTreeRegressor(max_depth=9)\n",
    "\n",
    "tree.fit(X_train, y_train)"
   ]
  },
  {
   "cell_type": "code",
   "execution_count": null,
   "id": "4746be40-4c8a-4ad7-a4c6-34ed162d799e",
   "metadata": {},
   "outputs": [],
   "source": [
    "y_test_tree = tree.predict(X_test)\n",
    "y_train_tree = tree.predict(X_train)"
   ]
  },
  {
   "cell_type": "code",
   "execution_count": null,
   "id": "a36cea4c-3e5d-4589-bba7-9bb084c6df0e",
   "metadata": {
    "tags": []
   },
   "outputs": [],
   "source": [
    "acc_train_tree = tree.score(X_train, y_train)\n",
    "acc_test_tree = tree.score(X_test, y_test)\n",
    "\n",
    "\n",
    "rmse_train_tree = np.sqrt(mean_squared_error(y_train, y_train_tree))\n",
    "rmse_test_tree = np.sqrt(mean_squared_error(y_test, y_test_tree))\n"
   ]
  },
  {
   "cell_type": "code",
   "execution_count": null,
   "id": "ac28a8b1-46ea-45f6-99f7-dd6ef9b3cefd",
   "metadata": {
    "tags": []
   },
   "outputs": [],
   "source": [
    "storeResults('Decision Tree',acc_train_tree, acc_test_tree, rmse_train_tree, rmse_test_tree)"
   ]
  },
  {
   "cell_type": "markdown",
   "id": "e49c719f-fd67-4699-9afe-19ab0caf2140",
   "metadata": {},
   "source": [
    "* __Random Forest__"
   ]
  },
  {
   "cell_type": "code",
   "execution_count": null,
   "id": "b314730c-63a7-47ec-bf5b-21b606e05753",
   "metadata": {
    "tags": []
   },
   "outputs": [],
   "source": [
    "from sklearn.ensemble import RandomForestRegressor\n",
    "from sklearn.model_selection import RandomizedSearchCV"
   ]
  },
  {
   "cell_type": "code",
   "execution_count": null,
   "id": "c25416a2-f755-4509-8a8b-da9fe653f1bc",
   "metadata": {
    "tags": []
   },
   "outputs": [],
   "source": [
    "forest = RandomForestRegressor()"
   ]
  },
  {
   "cell_type": "code",
   "execution_count": null,
   "id": "196c5fbe-5155-41fa-ae1d-e61ba7d611e3",
   "metadata": {
    "tags": []
   },
   "outputs": [],
   "source": [
    "params = {\n",
    "    'n_estimators': [50, 100, 200, 400],\n",
    "    'max_depth': [10, 20, 30, 40, 50, None],\n",
    "    'min_samples_split': [2, 5, 10],\n",
    "    'min_samples_leaf': [1, 2, 4],\n",
    "    'max_features': ['log2', 'sqrt']\n",
    "}\n",
    "\n",
    "random_search_forest = RandomizedSearchCV(forest, params, cv=10, n_jobs=-1, n_iter=30, random_state=42)\n",
    "random_search_forest.fit(X_train, y_train)"
   ]
  },
  {
   "cell_type": "code",
   "execution_count": null,
   "id": "5b89d916-6816-402b-9bbf-fa63cfd39e29",
   "metadata": {},
   "outputs": [],
   "source": [
    "print(\"Best hyperparameters: \", random_search_forest.best_params_)\n",
    "#print(\"Best score: \", -random_search_forest.best_score_)"
   ]
  },
  {
   "cell_type": "code",
   "execution_count": null,
   "id": "61d8c512-a013-4dbc-8f15-0b4cfc11e1b4",
   "metadata": {},
   "outputs": [],
   "source": [
    "best_param_rf = random_search_forest.best_params_"
   ]
  },
  {
   "cell_type": "code",
   "execution_count": null,
   "id": "c77e5ee6-2df0-4f62-ba94-49841ed95ade",
   "metadata": {},
   "outputs": [],
   "source": [
    "y_test_forest = random_search_forest.predict(X_test)\n",
    "y_train_forest = random_search_forest.predict(X_train)"
   ]
  },
  {
   "cell_type": "code",
   "execution_count": null,
   "id": "87c48541-54f4-4f20-903c-41969ca37b5a",
   "metadata": {},
   "outputs": [],
   "source": [
    "acc_train_forest = random_search_forest.score(X_train, y_train)\n",
    "acc_test_forest = random_search_forest.score(X_test, y_test)\n",
    "\n",
    "rmse_train_forest = np.sqrt(mean_squared_error(y_train, y_train_forest))\n",
    "rmse_test_forest = np.sqrt(mean_squared_error(y_test, y_test_forest))"
   ]
  },
  {
   "cell_type": "code",
   "execution_count": null,
   "id": "19d05f59-b9a9-4707-9a40-be75dac1061d",
   "metadata": {},
   "outputs": [],
   "source": [
    "storeResults('Random Forest',acc_train_forest, acc_test_forest, rmse_train_forest, rmse_test_forest)"
   ]
  },
  {
   "cell_type": "code",
   "execution_count": null,
   "id": "bffbe44e-5638-463d-bfcc-7507e6a394e4",
   "metadata": {},
   "outputs": [],
   "source": []
  },
  {
   "cell_type": "markdown",
   "id": "b3f2efab-1b65-4c89-a51e-4d72e4e1db29",
   "metadata": {},
   "source": [
    "* __Multilayer Perceptrons (MLPs) or Neural Network__"
   ]
  },
  {
   "cell_type": "code",
   "execution_count": null,
   "id": "7f3b2fad-27d7-449e-874a-666e4cabd41a",
   "metadata": {
    "tags": []
   },
   "outputs": [],
   "source": [
    "from sklearn.neural_network import MLPRegressor\n",
    "\n",
    "mlp = MLPRegressor(hidden_layer_sizes=([100,100]))\n",
    "\n",
    "mlp.fit(X_train, y_train)"
   ]
  },
  {
   "cell_type": "code",
   "execution_count": null,
   "id": "4d302189-ac4b-4bad-8447-7130430683bb",
   "metadata": {
    "tags": []
   },
   "outputs": [],
   "source": [
    "y_test_mlp = mlp.predict(X_test)\n",
    "y_train_mlp = mlp.predict(X_train)"
   ]
  },
  {
   "cell_type": "code",
   "execution_count": null,
   "id": "064f9536-bca1-426b-ad20-ab26a36c81e1",
   "metadata": {
    "tags": []
   },
   "outputs": [],
   "source": [
    "acc_train_mlp = mlp.score(X_train, y_train)\n",
    "acc_test_mlp = mlp.score(X_test, y_test)\n",
    "\n",
    "rmse_train_mlp = np.sqrt(mean_squared_error(y_train, y_train_mlp))\n",
    "rmse_test_mlp = np.sqrt(mean_squared_error(y_test, y_test_mlp))"
   ]
  },
  {
   "cell_type": "code",
   "execution_count": null,
   "id": "849577f9-5d8c-4e3d-b69f-b3691ebde924",
   "metadata": {
    "tags": []
   },
   "outputs": [],
   "source": [
    "print(acc_train_mlp, acc_test_mlp)"
   ]
  },
  {
   "cell_type": "code",
   "execution_count": null,
   "id": "54b8e59e-eb91-4093-a553-9cb07a25075d",
   "metadata": {
    "tags": []
   },
   "outputs": [],
   "source": [
    "mlp = MLPRegressor()\n",
    "\n",
    "params = {'hidden_layer_sizes': [(50, 50), (100, 100)],\n",
    "          'activation': ['relu', 'tanh'],\n",
    "          'learning_rate': ['constant', 'adaptive'],\n",
    "          'alpha': [0.001, 0.01]}\n",
    "\n",
    "mlp_grid_search = GridSearchCV(mlp, params, cv=10, n_jobs=-1, verbose=2)\n",
    "mlp_grid_search.fit(X_train, y_train)"
   ]
  },
  {
   "cell_type": "code",
   "execution_count": null,
   "id": "9769530e-4765-4254-b6d3-b221cd50bae7",
   "metadata": {
    "tags": []
   },
   "outputs": [],
   "source": [
    "print(\"Best parameters:\", mlp_grid_search.best_params_)"
   ]
  },
  {
   "cell_type": "code",
   "execution_count": null,
   "id": "324b2aa9-ae71-4150-b614-587d41fb3cbb",
   "metadata": {
    "tags": []
   },
   "outputs": [],
   "source": [
    "y_test_mlp = mlp_grid_search.predict(X_test)\n",
    "y_train_mlp = mlp_grid_search.predict(X_train)"
   ]
  },
  {
   "cell_type": "code",
   "execution_count": null,
   "id": "89d798b1-c9e1-4734-a0e6-b1c647e60849",
   "metadata": {
    "tags": []
   },
   "outputs": [],
   "source": [
    "acc_train_mlp = mlp_grid_search.score(X_train, y_train)\n",
    "acc_test_mlp = mlp_grid_search.score(X_test, y_test)\n",
    "\n",
    "rmse_train_mlp = np.sqrt(mean_squared_error(y_train, y_train_mlp))\n",
    "rmse_test_mlp = np.sqrt(mean_squared_error(y_test, y_test_mlp))"
   ]
  },
  {
   "cell_type": "code",
   "execution_count": null,
   "id": "8a898653-6c5a-479c-b66c-70055b72c9c2",
   "metadata": {
    "tags": []
   },
   "outputs": [],
   "source": [
    "storeResults('Multilayer Perceptron Regression',acc_train_mlp, acc_test_mlp, rmse_train_mlp, rmse_test_mlp)"
   ]
  },
  {
   "cell_type": "markdown",
   "id": "d35edb01-f834-4b49-a1bd-9ff07dc4fd77",
   "metadata": {
    "tags": []
   },
   "source": [
    "* __XGBoost Regression__"
   ]
  },
  {
   "cell_type": "code",
   "execution_count": null,
   "id": "5986e9c7-0ce8-4247-9d82-f92de65e590f",
   "metadata": {
    "tags": []
   },
   "outputs": [],
   "source": [
    "from xgboost import XGBRegressor\n",
    "\n",
    "xgb = XGBRegressor(learning_rate=0.2,max_depth=4)\n",
    "\n",
    "xgb.fit(X_train, y_train)"
   ]
  },
  {
   "cell_type": "code",
   "execution_count": null,
   "id": "00c37249-fb55-4c68-8354-bcce3da7499a",
   "metadata": {
    "tags": []
   },
   "outputs": [],
   "source": [
    "y_test_xgb = xgb.predict(X_test)\n",
    "y_train_xgb = xgb.predict(X_train)"
   ]
  },
  {
   "cell_type": "code",
   "execution_count": null,
   "id": "c0c5578b-b58d-47c5-873f-663460956f4b",
   "metadata": {
    "tags": []
   },
   "outputs": [],
   "source": [
    "acc_train_xgb = xgb.score(X_train, y_train)\n",
    "acc_test_xgb = xgb.score(X_test, y_test)\n",
    "\n",
    "rmse_train_xgb = np.sqrt(mean_squared_error(y_train, y_train_xgb))\n",
    "rmse_test_xgb = np.sqrt(mean_squared_error(y_test, y_test_xgb))"
   ]
  },
  {
   "cell_type": "code",
   "execution_count": null,
   "id": "92dceb64-2ac5-4115-b527-43db0568f66f",
   "metadata": {
    "tags": []
   },
   "outputs": [],
   "source": [
    "print(acc_train_xgb, acc_test_xgb)"
   ]
  },
  {
   "cell_type": "markdown",
   "id": "6c8f851a-6c2f-4ec3-941f-e573411590c8",
   "metadata": {},
   "source": [
    "Let's tune the model's hyperparameter"
   ]
  },
  {
   "cell_type": "code",
   "execution_count": null,
   "id": "85b1181f-7c38-47d9-b87f-4dfda0518a9e",
   "metadata": {
    "tags": []
   },
   "outputs": [],
   "source": [
    "xgb = XGBRegressor(early_stopping_rounds=10)\n",
    "\n",
    "param_grid = {\n",
    "    'max_depth': [3, 4, 5],\n",
    "    'learning_rate': [0.1, 0.01, 0.001],\n",
    "    'n_estimators': [50, 100, 200]\n",
    "}\n",
    "\n",
    "xgb_grid_search = GridSearchCV(xgb, param_grid, cv=5)\n",
    "xgb_grid_search.fit(X_train, y_train, eval_set=[(X_test, y_test)], verbose=False)"
   ]
  },
  {
   "cell_type": "code",
   "execution_count": null,
   "id": "c8aafea8-5bf4-4ca0-a290-84d47be7cc98",
   "metadata": {
    "tags": []
   },
   "outputs": [],
   "source": [
    "best_params = xgb_grid_search.best_params_\n",
    "xgb = XGBRegressor(**best_params, early_stopping_rounds=10)\n",
    "xgb.fit(X_train, y_train, eval_set=[(X_test, y_test)], verbose=False)"
   ]
  },
  {
   "cell_type": "code",
   "execution_count": null,
   "id": "6f97608f-a771-40a4-bb68-28db57930d7f",
   "metadata": {
    "tags": []
   },
   "outputs": [],
   "source": [
    "y_test_xgb = xgb.predict(X_test)\n",
    "y_train_xgb = xgb.predict(X_train)"
   ]
  },
  {
   "cell_type": "code",
   "execution_count": null,
   "id": "1c80f67f-8314-454e-ba8d-db83a3a001eb",
   "metadata": {
    "tags": []
   },
   "outputs": [],
   "source": [
    "acc_train_xgb = xgb.score(X_train, y_train)\n",
    "acc_test_xgb = xgb.score(X_test, y_test)\n",
    "\n",
    "rmse_train_xgb = np.sqrt(mean_squared_error(y_train, y_train_xgb))\n",
    "rmse_test_xgb = np.sqrt(mean_squared_error(y_test, y_test_xgb))"
   ]
  },
  {
   "cell_type": "code",
   "execution_count": null,
   "id": "d82b6053-cce1-42d3-9ecb-53be7dd4b9fa",
   "metadata": {
    "tags": []
   },
   "outputs": [],
   "source": [
    "storeResults('XGBoost Regression',acc_train_xgb, acc_test_xgb, rmse_train_xgb, rmse_test_xgb)"
   ]
  },
  {
   "cell_type": "markdown",
   "id": "fac771a4-009c-49dc-bbe1-39a7e0aa1444",
   "metadata": {},
   "source": [
    "# Evaluation"
   ]
  },
  {
   "cell_type": "markdown",
   "id": "777deb80-0985-4ee7-bc8b-e1c38b278ad0",
   "metadata": {},
   "source": [
    "##### --- Model Comparison ---"
   ]
  },
  {
   "cell_type": "code",
   "execution_count": null,
   "id": "a2c9c146-b7b3-4bfb-aa9f-cca47378348f",
   "metadata": {
    "tags": []
   },
   "outputs": [],
   "source": [
    "results = pd.DataFrame({ 'ML Model': ML_Model,    \n",
    "    'Train Accuracy': acc_train,\n",
    "    'Test Accuracy': acc_test,\n",
    "    'Train RMSE': rmse_train,\n",
    "    'Test RMSE': rmse_test})"
   ]
  },
  {
   "cell_type": "code",
   "execution_count": null,
   "id": "9c29e7fc-ebab-4f82-b12e-dbf283e16565",
   "metadata": {
    "tags": []
   },
   "outputs": [],
   "source": [
    "sorted_results = results.sort_values(by=['Test Accuracy', 'Train Accuracy'], ascending=False)\n",
    "sorted_results"
   ]
  },
  {
   "cell_type": "code",
   "execution_count": null,
   "id": "9df3265c-fdff-4b5a-93fc-b7f7f969b96d",
   "metadata": {
    "tags": []
   },
   "outputs": [],
   "source": [
    "plt.figure(figsize=(17, 13), dpi=120)\n",
    "\n",
    "custom_palette1 = sns.color_palette(\"Blues_r\", n_colors=7)\n",
    "custom_palette2 = sns.color_palette(\"PuRd_r\", n_colors=7)\n",
    "\n",
    "plt.subplot(221)\n",
    "sns.barplot(data=sorted_results, x='ML Model', y='Test Accuracy', palette=custom_palette1)\n",
    "plt.title(\"Model Performance in Accuracy (R^2)\", fontweight='bold')\n",
    "plt.xticks(rotation=90)\n",
    "for idx, value in enumerate(sorted_results['Test Accuracy']):\n",
    "    plt.text(idx, value, round(value, 3), ha='center', va='bottom')\n",
    "\n",
    "plt.subplot(222)\n",
    "plt.title(\"Model Performance in RMSE\", fontweight='bold')\n",
    "sns.barplot(data=sorted_results, x='ML Model', y='Test RMSE', palette=custom_palette2)\n",
    "plt.xticks(rotation=90)\n",
    "for idx, value in enumerate(sorted_results['Test RMSE']):\n",
    "    plt.text(idx, value, round(value, 3), ha='center', va='bottom')\n",
    "\n",
    "\n",
    "plt.show()"
   ]
  },
  {
   "cell_type": "markdown",
   "id": "f41e37d4-836e-4bd4-8f43-ed08ffc63335",
   "metadata": {},
   "source": [
    "# Deployment"
   ]
  },
  {
   "cell_type": "markdown",
   "id": "c3f7a874-5844-4e48-835f-c21d755fbc3d",
   "metadata": {},
   "source": [
    "XGBoost and Random Forest Model will be exported for a purpose of deployment."
   ]
  },
  {
   "cell_type": "code",
   "execution_count": null,
   "id": "cfc959d0-2d7c-4df6-a6de-0a3bbd9b1925",
   "metadata": {
    "tags": []
   },
   "outputs": [],
   "source": [
    "import joblib"
   ]
  },
  {
   "cell_type": "code",
   "execution_count": null,
   "id": "24fd7903-872c-41c1-89a4-733e2c072d68",
   "metadata": {
    "tags": []
   },
   "outputs": [],
   "source": [
    "xgb = XGBRegressor(**best_params, early_stopping_rounds=10)\n",
    "xgb.fit(X_train, y_train, eval_set=[(X_test, y_test)], verbose=False)"
   ]
  },
  {
   "cell_type": "code",
   "execution_count": null,
   "id": "60ff6ca8-e534-48a6-b4dc-f5b3dc21a072",
   "metadata": {
    "tags": []
   },
   "outputs": [],
   "source": [
    "joblib.dump(xgb, './models/XGBoost_model.joblib')"
   ]
  },
  {
   "cell_type": "code",
   "execution_count": null,
   "id": "c875d098-415c-4274-9ed4-1ffad1ffec93",
   "metadata": {
    "tags": []
   },
   "outputs": [],
   "source": [
    "# train a model with best parametre"
   ]
  },
  {
   "cell_type": "code",
   "execution_count": null,
   "id": "040cd6fb-85ad-4030-84c9-72da1cfd355e",
   "metadata": {
    "tags": []
   },
   "outputs": [],
   "source": [
    "forest = RandomForestRegressor(**best_param_rf)\n",
    "forest.fit(X_train, y_train)"
   ]
  },
  {
   "cell_type": "code",
   "execution_count": null,
   "id": "01a48bd3-e8ba-4816-bd41-b40769b516bd",
   "metadata": {
    "tags": []
   },
   "outputs": [],
   "source": [
    "joblib.dump(forest, './models/RandomForestModel.joblib')"
   ]
  },
  {
   "cell_type": "code",
   "execution_count": null,
   "id": "42bdbca1-c2c8-4b9f-bfda-9c9317a757a3",
   "metadata": {
    "tags": []
   },
   "outputs": [],
   "source": []
  },
  {
   "cell_type": "code",
   "execution_count": null,
   "id": "1865cf13-493b-4e5d-b108-be28084e13ac",
   "metadata": {},
   "outputs": [],
   "source": []
  },
  {
   "cell_type": "code",
   "execution_count": null,
   "id": "283f8159-f4f0-48ee-8108-ca5e4f0293e6",
   "metadata": {},
   "outputs": [],
   "source": []
  },
  {
   "cell_type": "code",
   "execution_count": null,
   "id": "9797760f-2503-4916-b361-16296e8ec382",
   "metadata": {
    "tags": []
   },
   "outputs": [],
   "source": [
    "# #label encoder\n",
    "# new_data = df.copy()"
   ]
  },
  {
   "cell_type": "code",
   "execution_count": null,
   "id": "409a5f7f-2779-4d91-a4a1-9ee897cbfe98",
   "metadata": {
    "tags": []
   },
   "outputs": [],
   "source": [
    "# new_data.drop(columns=['capital_lattitude', 'capital_longitude', 'continent_name'], inplace=True)\n",
    "# new_data['gdp_for_year'] = new_data['gdp_for_year'].str.replace(',','').astype(float)"
   ]
  },
  {
   "cell_type": "code",
   "execution_count": null,
   "id": "8906fc9f-2fe1-4600-8841-a11f621498cf",
   "metadata": {
    "tags": []
   },
   "outputs": [],
   "source": [
    "# from sklearn.preprocessing import LabelEncoder\n",
    "\n",
    "# categorical = ['country', 'year', 'age', 'sex', 'generation']\n",
    "# encoders = {}\n",
    "\n",
    "# for col in categorical:\n",
    "#     encoder = LabelEncoder()\n",
    "#     encoder.fit(new_data[col])\n",
    "#     encoders[col] = encoder"
   ]
  },
  {
   "cell_type": "code",
   "execution_count": null,
   "id": "06c7eb6f-c60d-48cf-951f-314108a4c2d8",
   "metadata": {
    "tags": []
   },
   "outputs": [],
   "source": [
    "# joblib.dump(encoders, './models/label_encoder.joblib')"
   ]
  },
  {
   "cell_type": "code",
   "execution_count": null,
   "id": "32aeb39e-f91f-4678-916f-492ef23cc5d1",
   "metadata": {
    "tags": []
   },
   "outputs": [],
   "source": [
    "# #numerical encoder\n",
    "# from sklearn.preprocessing import RobustScaler\n",
    "\n",
    "# numerical = ['suicides_no', 'population', 'suicides/100k_pop', 'gdp_for_year', 'gdp_per_capita']\n",
    "\n",
    "# num_encoder = RobustScaler()\n",
    "# num_encoder.fit(new_data[numerical])\n",
    "    \n",
    "# joblib.dump(num_encoder, './models/num_encoder.joblib')"
   ]
  },
  {
   "cell_type": "code",
   "execution_count": null,
   "id": "5d255c01-5edc-464c-b197-e7410ede085c",
   "metadata": {
    "tags": []
   },
   "outputs": [],
   "source": [
    "# num_encoder.center_"
   ]
  },
  {
   "cell_type": "code",
   "execution_count": null,
   "id": "9498d970-1064-4f84-9213-c28f8b04fc80",
   "metadata": {
    "tags": []
   },
   "outputs": [],
   "source": [
    "# new_data"
   ]
  },
  {
   "cell_type": "code",
   "execution_count": null,
   "id": "65e5de87-e533-4580-bfcd-0d235b3fc3ad",
   "metadata": {},
   "outputs": [],
   "source": []
  },
  {
   "cell_type": "code",
   "execution_count": null,
   "id": "e145a33a-0717-4147-a1de-e677b79cb2d9",
   "metadata": {
    "tags": []
   },
   "outputs": [],
   "source": [
    "# xgb_model = joblib.load(\"./models/XGBoost_model.joblib\")\n",
    "# label_encoder_model = joblib.load(\"./models/label_encoder.joblib\")\n",
    "# num_encoder_model = joblib.load(\"./models/num_encoder.joblib\")"
   ]
  },
  {
   "cell_type": "code",
   "execution_count": null,
   "id": "33d4bb63-4f0a-4c42-ba89-a94d69ff706c",
   "metadata": {
    "tags": []
   },
   "outputs": [],
   "source": [
    "# test_data = df.drop(columns=['capital_lattitude', 'capital_longitude', 'continent_name'])\n",
    "# test_data['gdp_for_year'] = test_data['gdp_for_year'].str.replace(',','').astype(float)"
   ]
  },
  {
   "cell_type": "code",
   "execution_count": null,
   "id": "2998cebc-6174-4eb7-850e-918bb1bd1387",
   "metadata": {
    "tags": []
   },
   "outputs": [],
   "source": [
    "# new_collected_data = test_data.sample(10)"
   ]
  },
  {
   "cell_type": "code",
   "execution_count": null,
   "id": "0d02b8d6-a3be-4d8c-b411-0af8ec576376",
   "metadata": {
    "tags": []
   },
   "outputs": [],
   "source": [
    "# for cat, encoder in label_encoder_model.items():\n",
    "#     new_collected_data[cat] = encoder.transform(new_collected_data[cat])"
   ]
  },
  {
   "cell_type": "code",
   "execution_count": null,
   "id": "2f905010-0ef9-4848-aef1-e0ba94a80e6e",
   "metadata": {
    "tags": []
   },
   "outputs": [],
   "source": [
    "# new_collected_data[numerical] = num_encoder_model.transform(new_collected_data[numerical])"
   ]
  },
  {
   "cell_type": "code",
   "execution_count": null,
   "id": "9cd66d5d-e21b-4229-8431-26179687c930",
   "metadata": {
    "tags": []
   },
   "outputs": [],
   "source": [
    "# new_collected_data.columns"
   ]
  },
  {
   "cell_type": "code",
   "execution_count": null,
   "id": "8fc07e4a-3eda-4e32-b095-87a499b96931",
   "metadata": {
    "tags": []
   },
   "outputs": [],
   "source": [
    "# X = new_collected_data[['country', 'year', 'sex', 'age', 'suicides_no', 'population', 'gdp_for_year', 'gdp_per_capita', 'generation',\n",
    "#        'hdi']]\n",
    "# y = new_collected_data['suicides/100k_pop']"
   ]
  },
  {
   "cell_type": "code",
   "execution_count": null,
   "id": "34edaf46-cbbe-4f32-9258-eb7182421292",
   "metadata": {
    "tags": []
   },
   "outputs": [],
   "source": []
  },
  {
   "cell_type": "code",
   "execution_count": null,
   "id": "461f402f-6204-4c14-a83e-1067439b5183",
   "metadata": {
    "tags": []
   },
   "outputs": [],
   "source": []
  },
  {
   "cell_type": "code",
   "execution_count": null,
   "id": "f2ff50ec-7cc2-4237-9fc3-9a09bbd45628",
   "metadata": {
    "tags": []
   },
   "outputs": [],
   "source": []
  },
  {
   "cell_type": "code",
   "execution_count": null,
   "id": "28361da9-d35e-482d-934e-11ae13a5bbe8",
   "metadata": {
    "tags": []
   },
   "outputs": [],
   "source": []
  },
  {
   "cell_type": "code",
   "execution_count": null,
   "id": "d1af52db-99a4-43f3-8d69-dd5cc705145a",
   "metadata": {
    "tags": []
   },
   "outputs": [],
   "source": []
  },
  {
   "cell_type": "code",
   "execution_count": null,
   "id": "5f513a09-2bef-4609-b53d-cd70f232e7de",
   "metadata": {},
   "outputs": [],
   "source": []
  }
 ],
 "metadata": {
  "kernelspec": {
   "display_name": "suicide-rate",
   "language": "python",
   "name": "suicide-rate"
  },
  "language_info": {
   "codemirror_mode": {
    "name": "ipython",
    "version": 3
   },
   "file_extension": ".py",
   "mimetype": "text/x-python",
   "name": "python",
   "nbconvert_exporter": "python",
   "pygments_lexer": "ipython3",
   "version": "3.11.3"
  }
 },
 "nbformat": 4,
 "nbformat_minor": 5
}
